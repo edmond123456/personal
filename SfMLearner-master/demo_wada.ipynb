{
 "cells": [
  {
   "cell_type": "code",
   "execution_count": 1,
   "metadata": {},
   "outputs": [
    {
     "name": "stdout",
     "output_type": "stream",
     "text": [
      "Populating the interactive namespace from numpy and matplotlib\n"
     ]
    }
   ],
   "source": [
    "%pylab inline\n",
    "from __future__ import division\n",
    "import os\n",
    "import numpy as np\n",
    "import PIL.Image as pil\n",
    "import tensorflow as tf\n",
    "from mySfMLearner import SfMLearner\n",
    "from utils import normalize_depth_for_display\n",
    "\n",
    "img_height=128\n",
    "img_width=416\n",
    "ckpt_file = 'models/model-190532'\n",
    "#ckpt_file = 'checkpoints/wo_reg/run_seq5_sm0.05/model.latest'\n",
    "#ckpt_file = 'checkpoints/wo_reg/run_seq3/model.latest'\n",
    "fh = open('misc/sample.png', 'r')\n",
    "I = pil.open(fh)\n",
    "I = I.resize((img_width, img_height), pil.ANTIALIAS)\n",
    "I = np.array(I)"
   ]
  },
  {
   "cell_type": "code",
   "execution_count": 2,
   "metadata": {},
   "outputs": [],
   "source": [
    "sfm = SfMLearner()\n",
    "sfm.setup_inference(img_height,\n",
    "                    img_width,\n",
    "                    mode='depth')"
   ]
  },
  {
   "cell_type": "code",
   "execution_count": 3,
   "metadata": {},
   "outputs": [
    {
     "name": "stdout",
     "output_type": "stream",
     "text": [
      "INFO:tensorflow:Restoring parameters from models/model-190532\n",
      "depth_net/cnv1\n",
      "depth_net/cnv1b\n",
      "depth_net/cnv2\n",
      "depth_net/cnv2b\n",
      "depth_net/cnv3\n",
      "depth_net/cnv3b\n",
      "depth_net/cnv4\n",
      "depth_net/cnv4b\n",
      "depth_net/cnv5\n",
      "depth_net/cnv5b\n",
      "depth_net/cnv6\n",
      "depth_net/cnv6b\n",
      "depth_net/cnv7\n",
      "depth_net/cnv7b\n",
      "depth_net/upcnv7\n",
      "depth_net/icnv7\n",
      "depth_net/upcnv6\n",
      "depth_net/icnv6\n",
      "depth_net/upcnv5\n",
      "depth_net/icnv5\n",
      "depth_net/upcnv4\n",
      "depth_net/icnv4\n",
      "depth_net/disp4\n",
      "depth_net/upcnv3\n",
      "depth_net/icnv3\n",
      "depth_net/disp3\n",
      "depth_net/upcnv2\n",
      "depth_net/icnv2\n",
      "depth_net/disp2\n",
      "depth_net/upcnv1\n",
      "depth_net/icnv1\n",
      "depth_net/disp1\n"
     ]
    }
   ],
   "source": [
    "saver = tf.train.Saver([var for var in tf.model_variables()]) \n",
    "with tf.Session() as sess:\n",
    "    saver.restore(sess, ckpt_file)\n",
    "    pred = sfm.inference(I[None,:,:,:], sess, mode='depth')"
   ]
  },
  {
   "cell_type": "code",
   "execution_count": 7,
   "metadata": {},
   "outputs": [
    {
     "name": "stdout",
     "output_type": "stream",
     "text": [
      "(1, 2, 7, 512)\n"
     ]
    },
    {
     "data": {
      "text/plain": [
       "<matplotlib.image.AxesImage at 0xa024790>"
      ]
     },
     "execution_count": 7,
     "metadata": {},
     "output_type": "execute_result"
    },
    {
     "data": {
      "image/png": "[encoded data removed]",
      "text/plain": [
       "<Figure size 1080x1080 with 1 Axes>"
      ]
     },
     "metadata": {
      "needs_background": "light"
     },
     "output_type": "display_data"
    }
   ],
   "source": [
    "cnv6b = pred['cnv6b']\n",
    "print cnv6b.shape\n",
    "figure(figsize=(15,15))\n",
    "imshow(cnv6b.reshape(-1,cnv6b.shape[-1]))"
   ]
  },
  {
   "cell_type": "code",
   "execution_count": null,
   "metadata": {},
   "outputs": [],
   "source": [
    "figure(figsize=(15,15))\n",
    "subplot(1,2,1); imshow(I)\n",
    "subplot(1,2,2); imshow(normalize_depth_for_display(pred['depth'][0,:,:,0]))"
   ]
  },
  {
   "cell_type": "code",
   "execution_count": null,
   "metadata": {},
   "outputs": [],
   "source": [
    "fh = open('misc/sample2.png', 'r')\n",
    "I2 = pil.open(fh)\n",
    "I2 = I2.resize((img_width*3, img_height), pil.ANTIALIAS)\n",
    "I2 = np.array(I2)"
   ]
  },
  {
   "cell_type": "code",
   "execution_count": null,
   "metadata": {},
   "outputs": [],
   "source": [
    "figure(figsize=(15,15))\n",
    "imshow(I2)"
   ]
  },
  {
   "cell_type": "code",
   "execution_count": null,
   "metadata": {},
   "outputs": [],
   "source": [
    "sfm.setup_inference(img_height,\n",
    "                    img_width,\n",
    "                    mode='pose')"
   ]
  },
  {
   "cell_type": "code",
   "execution_count": null,
   "metadata": {},
   "outputs": [],
   "source": [
    "saver = tf.train.Saver([var for var in tf.model_variables()])\n",
    "with tf.Session() as sess:\n",
    "    saver.restore(sess, ckpt_file)\n",
    "    pred = sfm.inference(I2[None,:,:,:], sess, mode='pose')"
   ]
  },
  {
   "cell_type": "code",
   "execution_count": null,
   "metadata": {},
   "outputs": [],
   "source": [
    "pred"
   ]
  },
  {
   "cell_type": "code",
   "execution_count": null,
   "metadata": {},
   "outputs": [],
   "source": [
    "pose = pred['pose'][0,:,:]"
   ]
  },
  {
   "cell_type": "code",
   "execution_count": null,
   "metadata": {},
   "outputs": [],
   "source": [
    "pose[1,:] - pose[0,:]"
   ]
  },
  {
   "cell_type": "code",
   "execution_count": null,
   "metadata": {},
   "outputs": [],
   "source": []
  },
  {
   "cell_type": "code",
   "execution_count": null,
   "metadata": {},
   "outputs": [],
   "source": []
  }
 ],
 "metadata": {
  "kernelspec": {
   "display_name": "Python 2",
   "language": "python",
   "name": "python2"
  },
  "language_info": {
   "codemirror_mode": {
    "name": "ipython",
    "version": 2
   },
   "file_extension": ".py",
   "mimetype": "text/x-python",
   "name": "python",
   "nbconvert_exporter": "python",
   "pygments_lexer": "ipython2",
   "version": "2.7.5"
  }
 },
 "nbformat": 4,
 "nbformat_minor": 2
}
