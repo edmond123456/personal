{
 "cells": [
  {
   "cell_type": "code",
   "execution_count": 2,
   "metadata": {},
   "outputs": [
    {
     "name": "stdout",
     "output_type": "stream",
     "text": [
      "end\n"
     ]
    }
   ],
   "source": [
    "\"\"\"\n",
    "https://blog.csdn.net/Bugest/article/details/81119980\n",
    "https://blog.csdn.net/u011440558/article/details/78272629   --ファイル名順\n",
    "\"\"\"\n",
    "\n",
    "\n",
    "# -*- coding: UTF-8 -*-\n",
    "import os\n",
    "import cv2\n",
    "import time\n",
    " \n",
    "\n",
    "def picvideo(path,size):\n",
    "    filelist = os.listdir(path) \n",
    "    filelist.sort(key= lambda x:int(x[:-8]))\n",
    "    #print(filelist)\n",
    "    fps = 9\n",
    "    #file_path = \"C://Users//saku_//Documents//GitHub//personal//thermal_illusion//\" + \"Lepton_video\" + \".mp4\"#export\n",
    "    file_path = \"C://Users//Hayato//Documents//GitHub//personal//thermal_illusion//\" + \"20200217\" + \".mp4\"#export\n",
    "    fourcc = cv2.VideoWriter_fourcc('D', 'I', 'V', 'X')#encode\n",
    "    video = cv2.VideoWriter( file_path, fourcc, fps, size )\n",
    " \n",
    "    for item in filelist:\n",
    "        if item.endswith('.png'):   \n",
    "            #print(item)\n",
    "            item = path + '/' + item \n",
    "            img = cv2.imread(item)  \n",
    "            video.write(img)        \n",
    "    video.release() \n",
    "    \n",
    "    \n",
    "\n",
    "\n",
    "\n",
    "#path = \"C://Users//saku_//Documents//GitHub//personal//thermal_illusion//frames_trans//\"    \n",
    "path = \"C://Users//Hayato//Documents//GitHub//personal//thermal_illusion//frames_trans//\"    \n",
    "size =(640,480)\n",
    "picvideo(path,size)#// is necessary\n",
    "print(\"end\")\n"
   ]
  },
  {
   "cell_type": "code",
   "execution_count": null,
   "metadata": {},
   "outputs": [],
   "source": []
  }
 ],
 "metadata": {
  "kernelspec": {
   "display_name": "Python 3",
   "language": "python",
   "name": "python3"
  },
  "language_info": {
   "codemirror_mode": {
    "name": "ipython",
    "version": 3
   },
   "file_extension": ".py",
   "mimetype": "text/x-python",
   "name": "python",
   "nbconvert_exporter": "python",
   "pygments_lexer": "ipython3",
   "version": "3.6.9"
  }
 },
 "nbformat": 4,
 "nbformat_minor": 2
}
