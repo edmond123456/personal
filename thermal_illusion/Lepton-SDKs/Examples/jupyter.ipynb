{
 "cells": [
  {
   "cell_type": "markdown",
   "execution_count": null,
   "metadata": {},
   "outputs": [],
   "source": [
    "# Interacting with the Lepton from Python\n",
    "\n",
    "If you're new to Jupyter these are the basics. Code is organized into \"cells\" which are blocks of code that can \n",
    "be run one at a time, in any order.\n",
    "You can execute blocks by highlighting the cell and entering shift+enter or by clicking Run > Run Selected Cells.\n",
    "\n",
    "Note that a line begining with `!` will be executed in the shell/command prompt of your system. Use the following cell to make\n",
    "sure you have all of the dependencies of this notebook."
   ]
  },
  {
   "cell_type": "code",
   "execution_count": 1,
   "metadata": {},
   "outputs": [
    {
     "name": "stdout",
     "output_type": "stream",
     "text": "Requirement already satisfied: pythonnet in c:\\users\\hayato\\miniconda3\\lib\\site-packages (2.3.0)\nRequirement already satisfied: numpy in c:\\users\\hayato\\miniconda3\\lib\\site-packages (1.18.1)\nRequirement already satisfied: matplotlib in c:\\users\\hayato\\miniconda3\\lib\\site-packages (3.1.3)\nRequirement already satisfied: pyparsing!=2.0.4,!=2.1.2,!=2.1.6,>=2.0.1 in c:\\users\\hayato\\miniconda3\\lib\\site-packages (from matplotlib) (2.4.6)\nRequirement already satisfied: cycler>=0.10 in c:\\users\\hayato\\miniconda3\\lib\\site-packages (from matplotlib) (0.10.0)\nRequirement already satisfied: kiwisolver>=1.0.1 in c:\\users\\hayato\\miniconda3\\lib\\site-packages (from matplotlib) (1.1.0)\nRequirement already satisfied: numpy>=1.11 in c:\\users\\hayato\\miniconda3\\lib\\site-packages (from matplotlib) (1.18.1)\nRequirement already satisfied: python-dateutil>=2.1 in c:\\users\\hayato\\miniconda3\\lib\\site-packages (from matplotlib) (2.8.1)\nRequirement already satisfied: six in c:\\users\\hayato\\miniconda3\\lib\\site-packages (from cycler>=0.10->matplotlib) (1.14.0)\nRequirement already satisfied: setuptools in c:\\users\\hayato\\miniconda3\\lib\\site-packages (from kiwisolver>=1.0.1->matplotlib) (45.1.0.post20200127)\n"
    }
   ],
   "source": [
    "! python -m pip install pythonnet \n",
    "! python -m pip install numpy \n",
    "! python -m pip install matplotlib "
   ]
  },
  {
   "cell_type": "markdown",
   "execution_count": null,
   "metadata": {},
   "outputs": [],
   "source": [
    "## Setup Python's path for the Lepton .NET dlls\n",
    "\n",
    "Note that because this is a .NET library, it uses .NET naming conventions \n",
    "and requires importing `clr` (provided by the `pythonnet` package on pip).\n",
    "\n",
    "This first cell adds the right version (64 bit vs 32 bit) of the library to \n",
    "python's path based on the bit-depth of the python thats currently running. "
   ]
  },
  {
   "cell_type": "code",
   "execution_count": 2,
   "metadata": {},
   "outputs": [],
   "source": [
    "import clr # needs the \"pythonnet\" package\n",
    "import sys\n",
    "import os\n",
    "import time\n",
    "\n",
    "# check whether python is running as 64bit or 32bit\n",
    "# to import the right .NET dll\n",
    "import platform\n",
    "bits, name = platform.architecture()\n",
    "\n",
    "if bits == \"64bit\":\n",
    "\tfolder = [\"x64\"]\n",
    "else:\n",
    "\tfolder = [\"x86\"]\n",
    "\n",
    "sys.path.append(os.path.join(\"..\", *folder))"
   ]
  },
  {
   "cell_type": "markdown",
   "execution_count": null,
   "metadata": {},
   "outputs": [],
   "source": [
    "## Import the CCI SDK"
   ]
  },
  {
   "cell_type": "code",
   "execution_count": 3,
   "metadata": {},
   "outputs": [],
   "source": [
    "# AddReference makes the following `From Lepton ...` line \n",
    "# run by hooking the LeptonUVC dll into the python import \n",
    "# mechanism\n",
    "clr.AddReference(\"LeptonUVC\")\n",
    "\n",
    "from Lepton import CCI"
   ]
  },
  {
   "cell_type": "markdown",
   "execution_count": null,
   "metadata": {},
   "outputs": [],
   "source": [
    "Look for a PureThermal USB device."
   ]
  },
  {
   "cell_type": "code",
   "execution_count": 4,
   "metadata": {},
   "outputs": [],
   "source": [
    "found_device = None\n",
    "for device in CCI.GetDevices():\n",
    "    if device.Name.startswith(\"PureThermal\"):\n",
    "        found_device = device\n",
    "        break\n",
    "\n",
    "if not found_device:\n",
    "    print(\"Couldn't find lepton device\")\n",
    "else:\n",
    "    lep = found_device.Open()"
   ]
  },
  {
   "cell_type": "markdown",
   "execution_count": null,
   "metadata": {},
   "outputs": [],
   "source": [
    "Get the current camera uptime. This is a good way to test if the \n",
    "connection is working."
   ]
  },
  {
   "cell_type": "code",
   "execution_count": 5,
   "metadata": {},
   "outputs": [
    {
     "data": {
      "text/plain": "'\\nstr(lep.oem.GetSoftwareVersion())\\n'"
     },
     "execution_count": 5,
     "metadata": {},
     "output_type": "execute_result"
    }
   ],
   "source": [
    "\"\"\"\n",
    "str(lep.oem.GetSoftwareVersion())\n",
    "\"\"\""
   ]
  },
  {
   "cell_type": "code",
   "execution_count": 6,
   "metadata": {},
   "outputs": [
    {
     "data": {
      "text/plain": "'\\nlep.sys.GetCameraUpTime()\\n'"
     },
     "execution_count": 6,
     "metadata": {},
     "output_type": "execute_result"
    }
   ],
   "source": [
    "\"\"\"\n",
    "lep.sys.GetCameraUpTime()\n",
    "\"\"\""
   ]
  },
  {
   "cell_type": "markdown",
   "execution_count": null,
   "metadata": {},
   "outputs": [],
   "source": [
    "Run a FFC. If this command executes successfully, the shutter on the lepton should close and open."
   ]
  },
  {
   "cell_type": "code",
   "execution_count": 7,
   "metadata": {},
   "outputs": [
    {
     "data": {
      "text/plain": "'\\nlep.sys.RunFFCNormalization()\\n'"
     },
     "execution_count": 7,
     "metadata": {},
     "output_type": "execute_result"
    }
   ],
   "source": [
    "\"\"\"\n",
    "lep.sys.RunFFCNormalization()\n",
    "\"\"\""
   ]
  },
  {
   "cell_type": "markdown",
   "execution_count": null,
   "metadata": {},
   "outputs": [],
   "source": [
    "Get the current palette (**P**seudo-**color** **L**ook **U**p **T**able)"
   ]
  },
  {
   "cell_type": "code",
   "execution_count": 8,
   "metadata": {},
   "outputs": [
    {
     "data": {
      "text/plain": "'\\nlep.vid.GetPcolorLut()\\n'"
     },
     "execution_count": 8,
     "metadata": {},
     "output_type": "execute_result"
    }
   ],
   "source": [
    "\"\"\"\n",
    "lep.vid.GetPcolorLut()\n",
    "\"\"\""
   ]
  },
  {
   "cell_type": "code",
   "execution_count": 9,
   "metadata": {},
   "outputs": [
    {
     "data": {
      "text/plain": "'\\nlep.sys.SetGainMode(CCI.Sys.GainMode.LOW)\\n'"
     },
     "execution_count": 9,
     "metadata": {},
     "output_type": "execute_result"
    }
   ],
   "source": [
    "\"\"\"\n",
    "lep.sys.SetGainMode(CCI.Sys.GainMode.LOW)\n",
    "\"\"\""
   ]
  },
  {
   "cell_type": "markdown",
   "execution_count": null,
   "metadata": {},
   "outputs": [],
   "source": [
    "You can assign the palette with either its index or\n",
    "its name"
   ]
  },
  {
   "cell_type": "code",
   "execution_count": 10,
   "metadata": {},
   "outputs": [
    {
     "data": {
      "text/plain": "'\\nlep.vid.SetPcolorLut(2)\\n'"
     },
     "execution_count": 10,
     "metadata": {},
     "output_type": "execute_result"
    }
   ],
   "source": [
    "\"\"\"\n",
    "lep.vid.SetPcolorLut(2)\n",
    "\"\"\""
   ]
  },
  {
   "cell_type": "markdown",
   "execution_count": null,
   "metadata": {},
   "outputs": [],
   "source": [
    "The full list of available palettes is:"
   ]
  },
  {
   "cell_type": "code",
   "execution_count": 11,
   "metadata": {},
   "outputs": [
    {
     "data": {
      "text/plain": "'\\nfrom System import Enum\\nlist(Enum.GetNames(CCI.Vid.PcolorLut))\\n'"
     },
     "execution_count": 11,
     "metadata": {},
     "output_type": "execute_result"
    }
   ],
   "source": [
    "\"\"\"\n",
    "from System import Enum\n",
    "list(Enum.GetNames(CCI.Vid.PcolorLut))\n",
    "\"\"\""
   ]
  },
  {
   "cell_type": "markdown",
   "execution_count": null,
   "metadata": {},
   "outputs": [],
   "source": [
    "## Streaming frames from the Lepton\n",
    "\n",
    "Make sure to keep track of the capture object because creating more than one instance\n",
    "of it during a single session can cause problems. \n",
    "\n",
    "IR16Filters is a library for grabbing Y16 (16 bit greyscale) images from a webcam\n",
    "because most webcam libraries don't support this format.\n",
    "\n",
    "numpy is a library for number crunching in python that we can use to hold incomming \n",
    "images as 2-dimensional arrays, and matplotlib supports displaying and colorizing \n",
    "incomming images."
   ]
  },
  {
   "cell_type": "code",
   "execution_count": 12,
   "metadata": {},
   "outputs": [],
   "source": [
    "clr.AddReference(\"ManagedIR16Filters\")\n",
    "from IR16Filters import IR16Capture, NewIR16FrameEvent, NewBytesFrameEvent\n",
    "\n",
    "import numpy\n",
    "from matplotlib import pyplot as plt\n",
    "# %matplotlib inline is Jupyter magic to display plot results inline in the \n",
    "# notebook\n",
    "%matplotlib inline\n",
    "\n",
    "capture = None"
   ]
  },
  {
   "cell_type": "markdown",
   "execution_count": null,
   "metadata": {},
   "outputs": [],
   "source": [
    "Start saving incomming images in a queue with a max size so we don't \n",
    "use too much memory. Set maxlen higher values to keep more history. "
   ]
  },
  {
   "cell_type": "code",
   "execution_count": 21,
   "metadata": {},
   "outputs": [],
   "source": [
    "from collections import deque\n",
    "\n",
    "# change maxlen to control the number of frames of history we want to keep\n",
    "incoming_frames = deque(maxlen=10)\n",
    "def got_a_frame(short_array, width, height):\n",
    "    incoming_frames.append((height, width, short_array))\n",
    "\n",
    "if capture != None:\n",
    "    # don't recreate capture if we already made one\n",
    "    capture.RunGraph()\n",
    "else:\n",
    "    capture = IR16Capture()\n",
    "    capture.SetupGraphWithBytesCallback(NewBytesFrameEvent(got_a_frame))\n",
    "    capture.RunGraph()"
   ]
  },
  {
   "cell_type": "markdown",
   "execution_count": null,
   "metadata": {},
   "outputs": [],
   "source": [
    "Skip executing the next cell to keep `incomming_frames`\n",
    "always stocked with new images"
   ]
  },
  {
   "cell_type": "code",
   "execution_count": 14,
   "metadata": {},
   "outputs": [
    {
     "data": {
      "text/plain": "True"
     },
     "execution_count": 14,
     "metadata": {},
     "output_type": "execute_result"
    }
   ],
   "source": [
    "capture.StopGraph()"
   ]
  },
  {
   "cell_type": "code",
   "execution_count": 15,
   "metadata": {},
   "outputs": [
    {
     "data": {
      "text/plain": "'\\ndef short_array_to_numpy(height, width, frame):\\n    return numpy.fromiter(frame, dtype=\"uint16\").reshape(height, width)\\n'"
     },
     "execution_count": 15,
     "metadata": {},
     "output_type": "execute_result"
    }
   ],
   "source": [
    "\"\"\"\n",
    "def short_array_to_numpy(height, width, frame):\n",
    "    return numpy.fromiter(frame, dtype=\"uint16\").reshape(height, width)\n",
    "\"\"\""
   ]
  },
  {
   "cell_type": "markdown",
   "execution_count": null,
   "metadata": {},
   "outputs": [],
   "source": [
    "Grab the most recent image in the queue (python indexes negative numbers\n",
    "backwards from the end of arrays) and display it with matplotlib.\n",
    "\n",
    "If the graph is currently running, this should update the frame everytime you\n",
    "re-run the following cell. "
   ]
  },
  {
   "cell_type": "code",
   "execution_count": 16,
   "metadata": {},
   "outputs": [
    {
     "data": {
      "text/plain": "'\\nfrom matplotlib import cm\\n\\nheight, width, net_array = incoming_frames[-1]\\narr = short_array_to_numpy(height, width, net_array)\\n\\nplt.imshow(arr, cmap=cm.plasma)\\n'"
     },
     "execution_count": 16,
     "metadata": {},
     "output_type": "execute_result"
    }
   ],
   "source": [
    "\"\"\"\n",
    "from matplotlib import cm\n",
    "\n",
    "height, width, net_array = incoming_frames[-1]\n",
    "arr = short_array_to_numpy(height, width, net_array)\n",
    "\n",
    "plt.imshow(arr, cmap=cm.plasma)\n",
    "\"\"\""
   ]
  },
  {
   "cell_type": "markdown",
   "execution_count": null,
   "metadata": {},
   "outputs": [],
   "source": [
    "You can show the image with a variety of different colormaps. This doesn't use the lepton\n",
    "palette, because we are getting the raw 16-bit image and matplotlib is colorizing it for display purposes. \n",
    "\n",
    "`cm.viridis` and `cm.plasma` are both perceptually uniform and should use most of their colorspaces. `cm.bwr` gives a nice hot and cold effect. A full list of avaiable colormaps can be found in \n",
    "the matplotlib docs:\n",
    "[matplotlib.org/examples/color/colormaps_reference.html](https://matplotlib.org/examples/color/colormaps_reference.html)"
   ]
  },
  {
   "cell_type": "markdown",
   "execution_count": null,
   "metadata": {},
   "outputs": [],
   "source": [
    "## Dealing with temperatures\n",
    "\n",
    "If you are using a Lepton 2.5 or 3.5, radiometry should be enabled. When radiometry is on, \n",
    "pixel values are in centikelvin so that they can be represented by unsigned 16 bit integers.\n",
    "Note that 100cK = 1K. \n",
    "Converting to Celcius can be done by dividing by 100 and subtracting absolute zero as shown below.\n",
    "\n",
    "The following only works if the camera supports tlinear. Use the block \n",
    "below to test support."
   ]
  },
  {
   "cell_type": "code",
   "execution_count": 17,
   "metadata": {},
   "outputs": [
    {
     "data": {
      "text/plain": "'\\ntry:\\n    lep.rad.SetTLinearEnableStateChecked(True)\\n    print(\"this lepton supports tlinear\")\\nexcept:\\n    print(\"this lepton does not support tlinear\")\\n'"
     },
     "execution_count": 17,
     "metadata": {},
     "output_type": "execute_result"
    }
   ],
   "source": [
    "\"\"\"\n",
    "try:\n",
    "    lep.rad.SetTLinearEnableStateChecked(True)\n",
    "    print(\"this lepton supports tlinear\")\n",
    "except:\n",
    "    print(\"this lepton does not support tlinear\")\n",
    "\"\"\""
   ]
  },
  {
   "cell_type": "code",
   "execution_count": 18,
   "metadata": {},
   "outputs": [
    {
     "data": {
      "text/plain": "'\\nheight, width, net_array = incoming_frames[-1]\\narr = short_array_to_numpy(height, width, net_array)\\n\\ndef centikelvin_to_celsius(t):\\n    return (t - 27315) / 100\\n\\ndef to_fahrenheit(ck):\\n    c = centikelvin_to_celsius(ck)\\n    return c * 9 / 5 + 32\\n\\n# get the max image temp\\nprint(\"maximum temp {:.2f} ºF / {:.2f} ºC\".format(\\n    to_fahrenheit(arr.max()), centikelvin_to_celsius(arr.max())))\\n# get the average image temp\\nprint(\"average temp {:.2f} ºF / {:.2f} ºC\".format(\\n    to_fahrenheit(arr.mean()), centikelvin_to_celsius(arr.mean())))\\n'"
     },
     "execution_count": 18,
     "metadata": {},
     "output_type": "execute_result"
    }
   ],
   "source": [
    "\"\"\"\n",
    "height, width, net_array = incoming_frames[-1]\n",
    "arr = short_array_to_numpy(height, width, net_array)\n",
    "\n",
    "def centikelvin_to_celsius(t):\n",
    "    return (t - 27315) / 100\n",
    "\n",
    "def to_fahrenheit(ck):\n",
    "    c = centikelvin_to_celsius(ck)\n",
    "    return c * 9 / 5 + 32\n",
    "\n",
    "# get the max image temp\n",
    "print(\"maximum temp {:.2f} ºF / {:.2f} ºC\".format(\n",
    "    to_fahrenheit(arr.max()), centikelvin_to_celsius(arr.max())))\n",
    "# get the average image temp\n",
    "print(\"average temp {:.2f} ºF / {:.2f} ºC\".format(\n",
    "    to_fahrenheit(arr.mean()), centikelvin_to_celsius(arr.mean())))\n",
    "\"\"\"\n"
   ]
  },
  {
   "cell_type": "code",
   "execution_count": 25,
   "metadata": {},
   "outputs": [
    {
     "name": "stdout",
     "output_type": "stream",
     "text": "[[22.75 22.9  22.88 ... 21.82 21.67 21.98]\n [22.68 22.77 22.98 ... 21.65 21.72 21.85]\n [22.66 23.07 23.02 ... 21.72 21.57 21.95]\n ...\n [23.05 23.19 23.45 ... 22.56 22.47 22.36]\n [23.19 23.41 23.43 ... 22.41 22.39 22.3 ]\n [23.11 23.24 23.19 ... 22.36 22.34 22.58]]\n"
    },
    {
     "data": {
      "image/png": "[encoded data removed]",
      "image/svg+xml": "<?xml version=\"1.0\" encoding=\"utf-8\" standalone=\"no\"?>\r\n<!DOCTYPE svg PUBLIC \"-//W3C//DTD SVG 1.1//EN\"\r\n  \"http://www.w3.org/Graphics/SVG/1.1/DTD/svg11.dtd\">\r\n<!-- Created with matplotlib (https://matplotlib.org/) -->\r\n<svg height=\"250.505344pt\" version=\"1.1\" viewBox=\"0 0 324.045 250.505344\" width=\"324.045pt\" xmlns=\"http://www.w3.org/2000/svg\" xmlns:xlink=\"http://www.w3.org/1999/xlink\">\r\n <defs>\r\n  <style type=\"text/css\">\r\n*{stroke-linecap:butt;stroke-linejoin:round;}\r\n  </style>\r\n </defs>\r\n <g id=\"figure_1\">\r\n  <g id=\"patch_1\">\r\n   <path d=\"M 0 250.505344 \r\nL 324.045 250.505344 \r\nL 324.045 0 \r\nL 0 0 \r\nz\r\n\" style=\"fill:none;\"/>\r\n  </g>\r\n  <g id=\"axes_1\">\r\n   <g id=\"patch_2\">\r\n    <path d=\"M 26.925 226.627219 \r\nL 316.845 226.627219 \r\nL 316.845 9.187219 \r\nL 26.925 9.187219 \r\nz\r\n\" style=\"fill:#ffffff;\"/>\r\n   </g>\r\n   <g clip-path=\"url(#pb2656956c8)\">\r\n    <image height=\"218\" id=\"image66b363fb0a\" transform=\"scale(1 -1)translate(0 -218)\" width=\"290\" x=\"26.925\" xlink:href=\"data:image/png;base64,\r\niVBORw0KGgoAAAANSUhEUgAAASIAAADaCAYAAAACCE92AAAABHNCSVQICAgIfAhkiAAAIABJREFUeJztncvvLdl11/c5VefxO7/Xvbdv9+1ut0lst41xAo4IsXAkIhKEIoGUCESkDOCfYIDEhIgRIwZITBgwY4B4TIAAAYkBASfBxkn8UGx3t9Nu9/s+fq/zfjJo6be/61OuVefcNq47WN/Rqburdu3aVb999/qutb6r8yvFv9wlQZE6t79NQ0qp2HVSHY53pTl+NfXy7/vT2utSSmmxKm5/r9aFaet08ijKYmvauvXDSb1yY453GLv2u9l2TdtwsKq9brG0zzlb5OPHU9u2wQQW0tURnuXuSb7nvTt2vkajuR3fcJHqUJZrc3xyNrn9vZgPTNtsOqztZ7uxc/Lw0Z3b3x8+GeGe9kGfvzu+/f3ew1PT1u/Z51Yslvaex0f5WV5+8QL92Odcb/J3M5vZ5xxP8nOu1/YelTHItzjo2W9ojTmZLQpp4/dVf48dvouNfGN9fBdbfH96LvtZb3Mbb8+/5ZmM992dfc63ipk5nndyexc9b6XnNe6ySfXvupfsXPpvJRAIBH4CiIUoEAi0jliIAoFA6yhp8/V29WvTRmxAnrXuWHtwIYfkYLodWqwZy5Udz6Av94Thu9nCXhX7mXwSoWNSTojodu1YB31yE3LPjuW3VrDv+85z81nMPQdLjCk/GzmswdCeWxRi33ftnAyPMvfE68bXx+b45DjzBo8uLUdUoN+ecCuDvuUf9B1uyaEVOO7W84OlwxFxPIZnLP3vgjyQguPtyqmbNd51t/4+HdyiTMpX2n74t6K8UFHg27QUpcEC3NhWvtubjn1HG3A9yg07NHEqsZbsHD5pkfBd1HcbCAQCPxnEQhQIBFpHucU2bCkmVh9mmrr2uX1bwVU3123Yyu656RYti92P/P3Rce6XZhK3yupy5ha706nvl9t+NXfoPuUYhoP8LJvrtDeW2ILreDdwBe9ogsrevtezZiVNlo2YLGzb7XKIBefHwxZWB+e6FHPw7pl1BU9n/drrNpjbvpjBNCt53JOwhRVCLPTZaMoS+n45J8dHdq6vJ1051/bjmdqea79X+u+Bpm4d+N3udqBOJFRiXNjvgq51/dvm37lSO1xLikoQQT1iRxQIBFpHLESBQKB1xEIUCARaR0muR91qnY61tUvlTmA/01l5LS7Ba6Q+3D2xZ6ubli5Jm/Jh7eMCnMJOuJ6Ka9gxVz1+hCt1hTOSa3mP7v60izueAukq2239/x+rZc8ca8pHlykywrMw/YNcShO3ojCudLxPde3TjU3uRI85J5VjmWyGi3jzRT5uK9xOgcs4ByMJ+2DIwFzSP1a8P76LnuPqZ6qSgnyqjp1/kB1M7lQGwc+UrnUFw30U5I+ItbT3kuWNY0cUCARaRyxEgUCgdcRCFAgEWocTFJ7SkrFBYpcPYOMRU4lHGm/sbboTy2N0neVQ7eft1t5zNETMjMogVII1kCIgXSmnkVLV3jfjgczGap25lSZKyOOpNmKWr9Z2vjRNIyXLVZD32TLmSPgJchzLRX4Pi4XliAi9tpKGgPen9ySXo/Id5PiWy/oxkCfz4KUQkeMjT+VhiXg4nWvOrcaX9UhYOuC3xznSua+8653+Zpza/hzfhhzlrj5WSHmhDvgjTu3SpHis3XMDgUDgJ45YiAKBQOsoFx1mwebt1Rph4aWsW9yiEbplewIpucXKrn8D2dH1sIMcSLr2UW//7TlBV2dfQuVpbqmpwVQCKvwNxNQYIjx/AyUBPfKU+LjlJtQlz/SPbkmXbh4vTTxtW9Ltz3PVHMTWfYPXoi7x0ZFVk9R7rjd2DiaS/sH7cOxeSAPfWaFzjbQSnrsUyqEawmAOjWt9tbDz1xOTasdQF/RbOGoKNPhVvYDpRkm+hRW+iwWeeyF/n5XUDKpC6nvg+MS2pUJjRc1Rx04lgxQIBAItIxaiQCDQOmIhCgQCraOkIqPag7TxVuKS7+1cz7+RCbnuWA4m7VjtQqoYwHYci2H5AvzEJzBXjWQI2qjCqHY53c9G1RD2/Rprt0pZUB6DUJ6KblnFquImhsyGcERFWZ+2wWsXc8vBLBf5eEMFvy35kXxMtT/On4Yf9PsTtNVzMJ564oYhFuCINEyA82XuiVtQdsOTAWFtDE0lodvd64eRJUblE9whQyV0ztivuu9XUIyk7MxlV2RTENpC971iASXWnfydk2uiQqN+8lxbYkcUCARaRyxEgUCgdVQVGmWb1kfYqSo29hqysTXKEoZZmnIrKOe+MrDjefBcLjZ4NLTmFbf2F1dHeXwo5FfN7K53DdvIZYQ3NGRkm3s4IQ4UilcXOLfj61V9pDVNsU1FmVLb6k0+tnVhw/RFCXIAE+pmaa+dzbMrmyaUidBeQ/wdCpILee4pikGykKSXYb89IKq46xTe9MzpzZbR+fm5m1zyNmrdH9/GqAPsr5CwwtBnMr6mUBxt72PvMkn5u6C5xUjr0tn3xI4oEAi0jliIAoFA64iFKBAItI6SZuVAeCC68axiv4+BnEtHP/vVe37qlQvT9rnP/2ntPcq+5Yze+O5P3/6+uDyx5xb17t5KyoK6qpfW5U1FP8VoYGdlBmXKneQIUHmvlNT8Spb8yqYPHJ9m3owu3B55FnHZk0dR1QHP7Z+S5aU+/cknpu0bbzxvjq/GebwPH94xbS+//PD29xLVNrx0mssr+z43a1SGkfCMBfr10lOYbnHIuV3nGzJjBec3AH+pfFKFH3Q4v5VTDNIbT0qWpSK3Q9VWBfkkj/dZOUqPROyIAoFA64iFKBAItI5YiAKBQOsoqcKokgWMA1B1/2FFhb8+hqCp4qOuhlNIQdx5IXNGw1NbNbQcLs3xS5975/b3V377F00b41CUf5gvWPmingFj23arciLgfTr1KpbkgTRGhfIOrFyq6RiDoZXZIFTBcbdEXIfwPoy1YWzVACkyihfO7Ht47yq/w+++c2baHl2Obn8vIQfD1JEnkqawSfb97dKpOf7ig8ybjTAnK+n3zunctJGXSil/C3zXVGhc71lZmGkbSzynrXTsx7953I9WVGYM1NKhjFYdn/HVv23KgKjSDf/OtzjWKh5UuokdUSAQaB2xEAUCgdZRSaGnOabQXRkzdgc7hLjLyUwHqYps5+PxFCp9Yu4cP7i048F2+Phnsmn2S1AG/J//7pfNsZpq3J7r9pfC+pXih0W9i5K7YXXN0k2rW3IqAXIMq5WaDzf2npxr3To7qSw7mKcU5S8lLICu/RefvzLHl5P7t7+vYH798CbfpykEZCIz6LmUU0rptQ+zyfeFlxkaIQLveH+nMPdvJvXfBVMqSkeAQhVAafbS3NL33aRIoOY0+zHfFxQunsCV3lQMUaEuexZWVXOs6R0ZhVd85LEjCgQCrSMWokAg0DpiIQoEAq2jYuWq4loP65S6+kfJgiuapnGwvlwP56oNuoCkRNnP3MToUw9N22ZsC/J1TrIbefQbf2LaXvq9L5jj733np3M/jjwGOQUqPapi42Tmq1ZqTx6XQzCtRK+lQiPRNUqU9tzjE5FYGVmuZDG3c+v1c37H8lTHw7u3v8fgiHQOGBBAhqEwv+0cjMFxzOTi6cx+YRoawXkfDGzogUrNVFI8UAlGv40h5Gv0nXVxXdmhi75+fIS2e+kfC3wz7xU2bGHcyc/JuSXX4/LGcu66gXfy5EZiRxQIBFpHLESBQKB1xEIUCARaR7lr8P0rNk51SELjiGg5VuMN6itEKHY/YyVCyoc25ijJtcvf/oxpOj6bmuM757m6xAeQqtC4k0pKB2z4hVRI3VQkJezwBsIVsOKHreRQX601JSsdWzRIpiqf0we/NTrOvBBjlwZIn9maaiV+tdQX72fO6GJy17RprAsrthDKTfCr2OFflDN6/8ryWy+e55iyFeRDtuBZzoQ3myAtqA+JlaW+B8RdqaRwpSoL45Fk/piawaojrCSimC3yeH64sZM7KSnYnLFAjNEa3FhFK0jA1C7FAGlgN536NKHYEQUCgdYRC1EgEGgdZTVjth7qzqdptuCV0m2JIo7ePW7g7n3y7nO3v587w8ldaz6kP8ypBT/82mdN0ze//nlz/OY72RwbDe22tS/mWK9nt61UFdRt95rF8BLd7po6Ajey/GaxPg/VlAD7LF5qhqmwwUKS6/pQBJpiJUyW+/ezCd19C6aZKbJnwWSZeu2ClIYs/inf4wRzO52LCQVlg9nMmnGjUXZzN6lzqtqCVi5JCRVn8A3RVNMHZSUTmpIMb1GM57nte4UNqaD5NZWip555lVJKSwk36ONvWfthG++piAKLgUDgmUMsRIFAoHXEQhQIBFpH6aXu9yDtofYgr6M8gDZPEdI+hC2pcg90eX/ld3/u9veDf/6eaSv61p5+/3ufuP391d//C6btj96xin5viSvxZ1eWC/jk/ezW9qp2fDTe3L4CtQMPaloKh9SDi966bVldlq7heg6pAB+hVT0qVWCln92W6QL11UgJVqLVsIDToR3PfJLPnWF++L+ivl0EalRYjZFcPcO3ebPI3/GgD64EHNGRyMccH9u0l6urY3Pcl++PYR1zcaX3cU8eKw+0Bq3CNBOtYDyb23l/fZ3b5qVfQWMkMiHke/XvPCXL/Yzhgldpj3kHzwmWbynfNat/xI4oEAi0jliIAoFA64iFKBAItI5KsIjGFVHd38hCVqqjovKERAv1sd7x2rmcuwN/9PuPsg3/3X/6t00beQLlmq4RrbSB3av27LdAuZxeZ0aid8/aveRZNB5oCZ5gDQ6klGOmsvR7Du8DPknjfyoxPeDNCsMRWaZlJfKwJbiliiRuqdKnqEKB2Bflk85PrGTvjcS6kH9bYL50tGQ8+OHquUt8GTOZIkpnMP5nLpVxjyA3zJgyHT9jv/oyIMYCsdrLUCoWM8WD49P7vH1t3+fbRU5bIu/DuJ2tI99B/sbECjnRXbznPNWnlRCxIwoEAq0jFqJAINA6XElBbufW6mbnNgyuOzXj5tj6TXHtUMIExjAHe2oO7nhPe65uBKkqsMC5anby3N8Tt+hf/NC6bJ9DMUENuacpVp9rnNIC6SD9Zf4/oV+yaoc9VtOH6n9elRG2aRpHtaijNQkWYrLQjKNrf3iU0ySev28rfExEPXF1Y++xRj860/xQaar15VJGkmhxwWuoaLKg4ePLHObxAM9JU+3Jxcntb6aOqAnFbPsl0jRU3ZHueiqCXlwf3f5+HV/YtbjWDzHNWOywyVQzbaqy0WHahh/6Ys8NBAKBlhELUSAQaB2xEAUCgdbhckRLusDleLDzK1ao+57VQCrck/A1rBhgU0n8dXPn2L3kgbRfhhNMO5kL+PbaqvR9Cfb9I+EcmmQslAPpU45C3PkDR6UyJcvJrFCh9eh0Yo470tVsemTa1uJWZtWOyY2t06JyGawccnxs1S8VZ+dWjuL5SR7DeH5uTwap1uFLdKD8XB+X6VTPHImQlCzXc3l5Ytru3BnXnsuwAKPyCR6KXJ2mgzBU43piXfRfmeT2d4v6eV+CE+06KToH8Uk4d9350ec1IWRAAoHAM4dYiAKBQOtw7SuaM4WsW4y65larJ5d6Gf4pUbERwt0aBtCpjz5OyWb30sSjILiOl1tKDT14BBXI126seaPPxs0vV/ljp4qieninC7jvEZm7kWNGOW+grDi5zibWzZU1NTSKmEUmV45C49bW6ks3mBPNSh9ChF8z2h/ctWbHBxcwHZd5UjhzjML2cs37KmSP6+Ywg3eTbOrSJd9xsu83iIDWd0ZhfYrw62fB4pD/Z2yfXKOnV4nhK2IOMsqf58rfA8/1MuwJv2giwzE8xcZAIBBoGbEQBQKB1hELUSAQaB2VKh6W82CbpkX4rlVN+RhA6ZGuRQUrAWhaSa9SuQFu0QNCyhW0c7Vf2sdvdm2Y/7mEMbyAkIY5+l3KcAvwRSNx25JKWqByyFr4nBmKABbgHx4/vHf7+8mFValUME2DFT82jiud184Wmfu5QhjAaJjnbziw/NHzd1D15CI/2wJu98p4ZKorX5dx7fOdsChmfu7OGFU8cO5wkOeaLnotoMm0jfnC9vvoMj/nD+f2b+VtVOOYSSKT53ZvKpKox+RyvAx78jx6bpP7Xv+WQqExEAg8c4iFKBAItI5YiAKBQOsoq+HcGVyllBd6Wj6mcUAOD+TFIaSU0qpTH9NDqD1LrknnhPFSc4zhRPgvqkIOKhxbBsen1jWrwPJY43/IEV08vmOO3/8wV1qlmqNyUeQxmLKgPFBThQ/ti5VJnywyZ3R6bDki5Y9SSunuSR7Do2ubgsJv06sKWzgfA1NttBILY4zW4IwGkh7C6iAag3Q1tmN/PLWc35Xc8xrfF3kXo6xIvRNpa5Lg0HZytofEBjE+ad9zeV3siAKBQOuIhSgQCLSOktuwcs/Uh6atn167gHpjNfM2H89wLt2O9h4WeiY3lws3vBzmoGxV2cZ0lbGM9whhCryjjncMtcm1pDEze7xE2P9oks2x3e6eabu6tmkSWvhvOEAyjabhMCUAZolm8Tf976Wi8nR5q8l3cW3NyuOhTS1Q9/jJ0JozO7i51Q3PwpZatJNmGs+tuy6llNZ4lpmMYQ3lR0mST0uGcVRULXI705hIDegQGOpClVRFVfHi6VIzPNc+za1DXP2xIwoEAq0jFqJAINA6YiEKBAKtoyTPohxRAd5AbVCGaNPu1X7Iq3iyAsTKsWUPcR16rkTSULb4HNynGI/a8HSD3ttabidJCghaTMUKchNpaedrKO5gKgyWhUN6OGBaCZUCPSxRZaQv1S9KPEzRzW1zpK6MZ9Y9fiQckf5OKaXVGgMWTmuFz0IlVuasnoL3qyEqrBpDTKWva4cH8tKoUrKVax52rcYKuU2NNvDc7tUUinrep8kl70nmeFwxx7B1wgtiRxQIBFpHLESBQKB1xEIUCARaR0UP1NiAMP86jq24qcRGZLCKxyxZe19tSdrTvl25f2WCar+SxuFUtvR4qJQsF7Ds2JSFcWHjYk52mRkif3QsMUhMDemBxLqa5XPvjOo5mJSsPAWlPTRVo+jWvz+CqSI7xE9pVQqmg9TdP6WUlis7vqnIZdw9sXM5GtpvqCfSrGPEGGms0DG4rznlReQ3K89S1mUlx+RIldu87NixXkOKdSztN/iGiH3TLyrfbQc8o7wzxh+R2zEStBVuOF/bJAMSHFEgEHimEQtRIBBoHaW3EtF93xUfL3fcBbZ+rACioKmmoGuTJtW+5zalZnhF4/S41xBGr+cWeC6afI872TX7uLBu2ru77JK/t7Vu7HJnzbhTJ7uGmfAKpm0M4BJX0PxS0NVPdUKtYLFY1acEcKxMoZjIeLc3dk5evDszxyejbNKUhc12v5DKHCywOMFneuUYpQwluZFvYQrz60pMLCpVPO7YsSv43XpmklcIcQjWBSID5juuFE18SqrCc9c3IXZEgUCgdcRCFAgEWkcsRIFAoHW4lV43TGcQ+7AHTqjv2LKH2Irkjw65duGErfNZLEdkYavL+qqQXZPK4rv6lUMih6Zj/wBh/nc29jX1hZMZ9OqVAVNKabrI/Ei/tOduRJJjB07Ic/V7LvmULGdEjmi50hAQ+46cQrgVuY4rqCWOhvXvSbNMyAn9STE1xxedrBLp8ZM8l/IYHpdzCO9DeGkcijlCZIYd+w0d8ne1byoVZT+8cJtQaAwEAs8cYiEKBAKto2KaabY5FQeZeW6vYyZwxkFqjgcoKbqufccUY1+cBD2XrlcvLIE4JItZx8uQgSOameL2pik2mTOvP4PuclVS7MAuoui9XnsEJUVY6WkjmfEbvM6FmIMlfcrAUKKgC7zPGUy+hbj6nyBCWyOi30KBzA861jRTN3xTJL9vatSHkjSZMN65agJ6WfP8vmiqeS55LyzgECxBa4wkDCUiqwOBwDOHWIgCgUDriIUoEAi0jkqBRXVBs4KAgukfNHP37Scl30ZWaqBia6NftXXJs/AWforH/vhxFaPTftgjs74Hoqs5XViGaw5+pGuuRVa6plQg6XvrpIosUTDQc7svkFZSmDAAe263kmog1V1Q8JEqlu/s8pz8oBibtpnwPuQgvZSdjwMvY91LhZgjVaRPntZk/O/PNXm8T5Pq4r5zssbfY1lJjxL+jelje90hEAgE/j8iFqJAINA6YiEKBAKtoxJHpMpt1VicelQ5o/o1jpUx+mKTMlTJdIs2nqsyJQ7F8dG5TkzPIVCeipU3D7mnzi05tRG5MeFLuhva9+BZhAdixYr1pn68XcT4dGWy11teh5goiU/q4lQdH2U/1pg/rd66xMfHiq2X3cw/jCsKiPm4ibfT2JeTnU0jITQ2h7IbGu/De/DYpIewSq3D3/CeXhyR9403Vfyouwf7rVaTrY9PqrYFAoFAy4iFKBAItI6Sbm6aY4qBY3p4Lvpq9jGyrve0jJpC0b1uKqajABaCSeNgigeP1YJpGt++bTTxOLMTcdGf9a0Ll+7yfQsuUmWxh9KbKq5Pq3uGIo+aDkLT0XP10/zSY2tspbTEY70iZtQFixiIaUYTpeJK39W7tXk8kjKZU4xQ25qy7w8xm7zCiIdQDLaIaL0iY9N4TJ8oSMkUDwXDEmJHFAgEWkcsRIFAoHXEQhQIBFpHSU5IuRSqJSoPRF7H45qabNkmV3tdP4TnSuQ9tCAeV2O1bJtkP9Rm/nHJJ7D6B8e3km7JCRHqLld1xJRSGvTzfSgncnZiK02cnubjLUi1N9++b463MnyqMHaFRyBftHPdxhY880w6O0XVk7dTTvmg23iEc5+W1yPKnbqq93elHwKP72pKFVEwDIB42rAA3nPmSqwEAoFAy4iFKBAItI5YiAKBQOsovRieRadeZuAQPqRyj/1N7b1jjIhq9cr6jhin41VvZaUOTy60SV6hbhQbkCe07lnRQsG4ISMri8nUeB/GER0NbSzO6WnmWS4vzkzbaGBjaC6WViZEoZzRBlwTx6cfCmeOZ+qHfG9reZ+LXq6KcgxOiFIanjwGQflV02+nnleppDd41XmddBDve6MEB6Hfoicjm5KNByLv48UKDXeWexrItZSdjh1RIBBoHbEQBQKB1uH67eiS/3G5HQntd7CrL1TnpZ98dK4Wn/Pdg7qp9Vz0Te57b06YOqKpG9WsbwknwFadG/ee/EO3YU7U3KGLXgslLhEGMJvbzPOj2fD2N4svEv2evLONHX1ZSohFp348KaV0Pc1m1BWUJ6d4bM3Gf6Vjv6E/v87hBX9YPjRtD3YjDr8Wnqntmd2V6/B+vbSJQ+CpOxyiFlpJSZHv1jPFNk+ZYvLRPQOBQKBlxEIUCARaRyxEgUCgdVSqeOxr61bSP2hziglIG3iHc5WL8tI/PCmPlFLqSnOT3INWc6hIe8hvr+1H3ceciybPLlc38hGoO95Be2mqhNHviTvakdjcgPdZLK2be7WupxOHA+v+1b6YDtIX2ZIVeJ9ezw5wtc5cz45zyWolcpuzvu3npWXmt76zq1c1TKlBnqUSSJHBMIB9r0vpsIoa+7ZVw1fqpT6awk4UdN/baiUWHp/E8ILYEQUCgdYRC1EgEGgdsRAFAoHWUeGICq/qqqxbjBlwq7XimFyPTalAG8mBmuuaxuBdy3sqL8Q4okM4BcYRqTQEU0e0wsbJzpdlUCudHJFyQinZ1I0S3ImmWAx61p7vlfX2/dHRwhzv+D7lmK/v9DinW3S74CbAU6k8ba+0nNVobbmK1VpkQEY25eSzq8wR/fFuaNqmqPihMT7kFQ9590aSAykUH4cH2jeWj9dR6kPH1MQTe9ymFwO13tnrNLVFpXQ/umcgEAi0jFiIAoFA66jYACaDt5J5Xm/OeKYaXf1032tPh4SJE4cUTaRppFiJK3YA12sPUzZzMrDpvveg6R9nyBAvaX5Jxz2YN8O+Hc/JKGfR99GmplFT2kavzNf2BzYz/2hk1Rw/c+863wMm3nqZ5+/m+sS0LRc2raTs5Xs+d8+OZzq1Jtbl9dHt75ORNR3vzPI9P704NW1vFmNz7LnhDzH91Zyh+97L+D/kHocUQvTMyibzzy8Muv9Hrq7/6ngCgUCgZcRCFAgEWkcsRIFAoHWQfjD24AFCilW3u2M7evaqFz7QZD9rmskhbk9PdZGcFR2ZnkKjN4YteIKe8Ah3tpaHOi7tGF66mzmZ8zPLz5SF7Xc0yu7y87vXpu383lW+rl/PdaWU0lw4GeV5Ukrp6GRujk+FI6Jrfz623I5iNj2qbSM2kC05Psrzd34+sf3OM+f28wt7j+nWzte73XxtE/+xL3fycdItPDSlMe17LjmrivvekahRpUW2UYlS/5Yo9xM7okAg0DpiIQoEAq2j4r73zJ/CMaEOcbpzC1k4ptC+40kppVXNeT96DBo97UWFM0yhfus8wHSuHPOL/eh4RpifF87hjj6f3v4+HlmzaDC056o5NkBE9FBMqiEKKs7H1oTZXOVn6zbEJag5xux7BUMGFlCFXIkCwBLmIK89O8sm1RBzcHqSj19APz91ZZ/zspPPbSqM6JlunrnFKOd9+0lp/xCVQ8IAGF5QEewXM4oZ9SqQ713HMbEAZOyIAoFA64iFKBAItI5YiAKBQOuoZN8bFUaoqK3EHee52Zv6YXE1j3vy0ko8m53PtTggdN/245+rHNKCWdaVqoB5DLT91Z35qaG1te8KJ5RSSufnOS2BlS+Y0a4u8T4KIeq5m5XlLcYXNhVC+Zs11BrXzIQXHub4zLrSu6oGwPQP9Ht9c5z2hSoCFAhhOD3J83cBTug8WV7KK4z4tOkNTXzNIWkSysP44SE+1+qFnTSpDtS10V1PFUYdU5U/CgQCgZYRC1EgEGgdsRAFAoHWcVAckRdC7qWKkBMilAeiZIgnC8IWe+7+6RbEIbIMquDI+aG6pE2fgYKe2MxHA8txDPpWdmMhchkFOKH5fGD7lZia0THinBY5TmcOWY3lwkqRKH9DXmqzsfa+8k1LjEdF+xaQ/eDYF8I1MXVT2aCuAAAPtElEQVTlBHFPKk0yGGK+pF8qWp7hk1Y5lnmnXq6Dx/zGqU7o9aOoVFnFN6XKil7aRhOfpdxOU6rIRFQsjyFRw3ggBWOOIsUjEAg804iFKBAItI6SLnF1tVfMkl29+54i85qI64UBpORvKQsnpJ3HatZRoL/LrbNcy7F7JhSxcba4nguV/wOcS6g8zS0PTH2oZLunbJZMJyPTVogrvXOAnCRNM2KzkfSGFVz7YvKxn6Mjm64ylkz9orDnDmF+WdMMqSxH+Z53oFbw8Mqag1rccopwDKZCTPdMKuJ3wBQPrx9P0cFzs1doggNSp3hPmmMKddHTPGU2vv4NVsMJAoFAoGXEQhQIBFpHLESBQKB1lEdwo6nKYVWSQ3/THW6hJn2TS7IwhQfBcYgLkG2VMYi7HOap4YRSsryQZz+TP/LAfsgpKN9E3kzfQ1mAm4B6ovIh5IRY3UKrb1DVULmcsmtdrUy/UN6F1Ta2G9vvTnJbmFai42U6Slna5xzIc5+c2jSXXm+F43yucl8fjT3Pl6Z7pJTSydCmsmzn9eEYhHI9852vcGnusWfoyI8aw74yIE39eOkgXl8VHrSBL6zrh6792BEFAoHWEQtRIBBoHbEQBQKB1lFJ8WCKxb6oVLsQ23GDcPdKuHmnXtpAjw6Rpz1EWuGQczk+lY0oWcUAzJlKxXKejzR2CXY342K03eNgeEyZjfks80mnfVvxtNurl00hR7SChIjyNRtIhHhj5XOrnMcOmirXV7ZKrPbFflTCRKvHppRSWfDbzKi8a0jJKAfoxeVUqmI4shteFVjCrZSDWD3Kbuh9mtKf3JQnOZX35KlLee7Rzn4zsSMKBAKtIxaiQCDQOsoVtom63WSbbsv6FdVF9GzSQVi1oz6Ng/dUk69iRwImhaJS7O3pFBqbXLhqjjW5TLVSB01ZHd0GFSqGqL6hpsYGrnOaJepaL/r1c7BCqggrdcxnORWCJpUHjk9d9hwrCyyu1JS02R9pOrOpGY8uzm5/Hw1s+sf9+7mQ5Bpm5BbPciwmA6uwLPHYXia852ZvMvm8cw8pwLjvPZrSQfYdX5OJ15f7RIpHIBB45hALUSAQaB2xEAUCgdZRDuHWU76ml+pdr1zBGOCuViXPpZt75cgDeI51VxXSSU+pjm9/9UbCs5EJTTOhsMJEqyFsbD83cFV7kh10lxeSquG5tVn5YrWyI7y+zKkQFRc4UjM0xYIVWbWNKR5duNIn08wD9XuQ4ICa480kP8t8AVe18ELnSBWZL+z4nt/mfi8Ly809bZrEITyPV22Dx26F2F19akhKfiXapjEoDqkc4p8bCAQCLSMWokAg0DpiIQoEAq2j9KRQewdUXWVcUUfKJVBKY+VIB3ixS9WYp/p1tInn8Sq0Pi2a4oh0HjaYg8tuTtV4eGP5j/tXVqpiLXIe95+7Mm2Pn5yZY612MehDlkS4pqktyGrSP1JKaSWSryvIvx5ZBdq0Wkr6AHkgRwZ3NiXvk49PUfRVOaGUUtpKt2vELk1mme/qdm2s0niFKhmd/WKDUvK5Hi8twuun6R4eJ+nF+xyStsF7mhSsSnxe/dgJT+Y2dkSBQKB1xEIUCARaR8m0CZpYCk3jGOI8pm3YPGZu/RBC3tF0ELj2pZ9DlAGatsO6NR0gecRTb2S6ytbZVhPWHLTb6BspYvf9jXWdP7i0ts9WhnQ8srkPNxNrUmk6xhKZ+gM5ns+tqTODaaau/xHuWVFadDL31Z3PUAO6+ntl7nc6Q8b/un6uB04qy/uP7Fy+s7Xv970yu/fXTJdxzH0qDtJ97vXTlEZk7uOYX5qedUgqSGPIgJPGZMwt55lTsmZc1eQMBAKBlhELUSAQaB2xEAUCgdZRqfSq6KNNq22UFc7FQle4lVNB46Nrxa19QKj8EnfVCrKs9FrtK4P3tCENtOfZr8qmsDKBFxpRny5w2bXhBI9vLD/SL5Q7sS7vHaZvLC7xsoRbdpWPZ3NyMEgV6SpHZO/hVX6lZIjyQuSEniCVRVNdKI2yhu7MnePMd1HC5InM3+Ol7eeHhU35uO5kCZGm1AflhfZNgzgUh1RodZUUPwY8vmkosikVdUmPY8PwYkcUCARaRyxEgUCgdZQdbJ1t9n29ihpXMObpaz/c2HnR3EMn43/eYPpsnchvmmq6baxGnYogPp50hijsgTPequtfhOydNnXlp5TSm2vrzn9pm+/55Ap2ErDRYocoSqgKiE2qi2p+sVAjTTM99tquLmwU+Hhqn3MtLvrR0L77kbVI0/PP3eR+b+yczKSfNzG373WtaabmBd89TRQVpNeI7Caw34+jnrhv29Nm1PNcCuQvd5vaNu8eVXWAQCAQaBmxEAUCgdYRC1EgEGgdJbPAB8IVkP1QzoipIUPYgy918hr3GGH0j3Ct2pILhMrrlU0pHqo2WamS0am3e2nL6n3YD212W2UE3ElFbXJX3yaHVBl4v2urUgxFRXAwsbzKEdIrtEoFXeA9UVZcg/dZoqqHUdFESkdRMsUj99vr2fmbTnL2O5UCNlCmLOQDxCeUnr9r5QIWizwPDy9tesobwmO8XdjryM8cUijRwyGudP1uvCx5nusVajxEdbEp5UTniIUavef0Uj6YEhM7okAg0DpiIQoEAq0jFqJAINA6yhlstWJXH/9zKjbgT53aeIzPfeoDc/zCSw9vf3//9T9j2v7gjefM8dtJwvNxz6lTodUD7VXGEa069WHrXpoJcQgX4MVWKSgRctWxHNFrkuLRX9uYmfsdxvjk3+98cG7aXn7h+vb3BOqIlYofqsqIc4nhMFe/YGXVK6kGMl/YtiWUFYfCRd09m5k2xj09vMgSjj9Y2LYfiLQH55JQ7oJ8iPd++c14MT0et9MkJ+KpOe47Vo6vSTJk30o1VG+s8F3yTVXnNhAIBFpGLESBQKB1lHQVq6k22Nmt85deyVv5v/Tlb5q28wdPzPGLv/5H+fe//3nTtlr9ojlevnXn9veHyZp8C6PQWF+YMSW7Pfay21Oy2+ENTCEvBWVzkPLd/tDtMdNTuB2eSDrBd7vWZOmtrDj83YFk2C/tdngsao7MzKcrfSBhAUUBNQUnPWS5YFZ//qbmCBE4H9l3fzzKZhQz9d/6wGbqf2Odx/dWeW3aJvimFB8nS31tvs36goaeKUbQZCE8V3/d2FJKaVgJuJF7IlDHc/17z9LUjw43xPMDgcAzh1iIAoFA64iFKBAItI6SPMtQDslVDIfZZn/1V79u2iY/uG+ON29nV/HLf+v/mrYvXVuXc+d/f/H291d/cNe0qbjCrEFqwUsBoVzHeif2K2gCtW3JCPEeh7j6vQKVrmvYUbobY06+3bUVNr64zDzQA4RcXI2zG37Yt/2cjKybW1NFCqR4DFEdRF3/rA5yfZPHU0BJ8c6ZleTQkIL3Lyz39bWtHd+HRX5uckJajcOT3EjJf5+ePIaXmlHlQ3w3twdPpsS7p3cPnvu0/TaliujfVTW1JhAIBFpGLESBQKB1xEIUCARaR0lf/0JSHyaw4/7g9cwDff4//YJp+3N/5yvmePzdl25/n5S2n0//+tfsPaUSxWr9s6Zt/k6OF/kQg19D9lMt1CYZBD23UoRCTq1W7bDQu7A6ic83EF5MCKVa8v8fTFW5SpY7+bpc+9lry7O8UIp9jwGVhf2H41FO22DMUVHY93st1Tg+fGylPrTKCO9xdWPH98aTzCe91l2Ytg/BhTEtRqHcRVOsi5HzxdxWOBB5D5QxHjlpEYfIdxD7xhEdUum4iaPy0pi8fsgDaSxTcESBQOCZQyxEgUCgdZTepmyKrenb4kz/j//5S7YjKAOqe//6Oy+btuNPPjbHn/mlb93+nk+tut5m87nb3995/9i0vU7lR9m+N6k56gbTU108BE3mYM9sq1PtuTTF+CRqjnGsK8eS/A5SM96QCh9HM5sCcAfv4aVuDrnow+1+99iayGpyPby2mfozSR15d2e/mQ+gRHlVXt3+5rafz7101BQU7MczhTw1wibsm7HehENc6V5owiFjaPqOzbnOvFM5YC7rR7XiRyAQCLSMWIgCgUDriIUoEAi0jpKpBmp772Bz7sTP/e2lva7zH75sjv/u3Vx588Uvf8+0XXzzk+a4K+79L/7m75q20UkO+z//xudM2/K1582xUkbkEFgdRNubXKYebPVbSGfAVaySK+Sw1sZFauGNju+PsHyS5XJ0DNcIhXgf3b4pfMl2Z+f27MZWEinl3EnHutk3wi+NO5R8qa+owef03pnXRp6H7nwdg5fSkRLUHJ3/0z+OS75pDD+OtkPu4YUwVNz3lUodUgUoKr0GAoFnDbEQBQKB1lFyO6zb9TVDjiVjne7SP4apdvpvfvn299/7hHXXn3/GCu1fvfHg9nfxklXX+7P/4Hfy2P6Z3crPFz9nj9/KGf+PkZVO00xBgUEvkpTHam55bUTVHa39MBt6/2xt3pPmocIzfZboR/vlXM6dLTg/IVUS8ObnozGo6eML2W+lr6GjcjjFgOb4TjbOu6+YGvLhcA7U3PIUGVPy3e6ei57fgUYuz5N9Lu87PkQNwIsSp0veC3+gYmTsiAKBQOuIhSgQCLSOWIgCgUDr6Pzl8l8Yg3AklTs8xTUWLBxgTTvb5n5+7dUL0/Zrf//fmuPiJKdmbKZW0a/7V9+tHfwbv/Wr5vgbX/vC7e//8cY903YJG17d1SziqBwI0y3I16jNTL6N81c4637ppHjwnsqtNLnv93XFHqFii1eAks/JMeh3wnM7hpuwYMiF8g9N6QxbZxo8DoYckYIFAz14/MjHccE38UtmDMrXNKRpjFIOuWhSrdR2j2tqCj3QORrtbMhH7IgCgUDriIUoEAi0jliIAoFA66hwRMr9eNUraf+NdowLyOe+urVSEH/zF75vjn/lH/3r2987VCNNUg10+jeuTNPwPWsH/+k//uu3v1/71qum7b9+8xPm+EPhiJ50bXzSVHgDcmGMofHiiFgx1lv1XakFRxbkEMkSxhRVlCkFHkfEFipTFg5vpmNoiiNSNMW6aFwbY2g0BqmJD1HOqMLXIC1Bx8DvQv92qukMB6RQHFBB9pCKGp4qpFvp9QDZj4rUh/wtRaXXQCDwzCEWokAg0DpKzx3Hbb/JnsUa5oX5v4Us6//y1U+b41f+1V+5/f3qP/wd09Z9NwuqH/8va+Jd/7WxOf7Ub/33PL5/Yrfn05m99r+9/lwe+65+i1tJgcH2U6evyXzYN6yephgzu/XcJtPM265vxTbjc/FYLdSqyiHvmVFVGHT6cWzFssGVrqKRw46lCbyUhYqQvTx3JZ2hU38uoW1NxQ491UUP3rmeQH/TPb3xHRLS4JlqkX0fCASeOcRCFAgEWkcsRIFAoHX8P/B9WMq5DB5WAAAAAElFTkSuQmCC\" y=\"-8.627219\"/>\r\n   </g>\r\n   <g id=\"matplotlib.axis_1\">\r\n    <g id=\"xtick_1\">\r\n     <g id=\"line2d_1\">\r\n      <defs>\r\n       <path d=\"M 0 0 \r\nL 0 3.5 \r\n\" id=\"m6ac6cb37e6\" style=\"stroke:#000000;stroke-width:0.8;\"/>\r\n      </defs>\r\n      <g>\r\n       <use style=\"stroke:#000000;stroke-width:0.8;\" x=\"28.737\" xlink:href=\"#m6ac6cb37e6\" y=\"226.627219\"/>\r\n      </g>\r\n     </g>\r\n     <g id=\"text_1\">\r\n      <!-- 0 -->\r\n      <defs>\r\n       <path d=\"M 31.78125 66.40625 \r\nQ 24.171875 66.40625 20.328125 58.90625 \r\nQ 16.5 51.421875 16.5 36.375 \r\nQ 16.5 21.390625 20.328125 13.890625 \r\nQ 24.171875 6.390625 31.78125 6.390625 \r\nQ 39.453125 6.390625 43.28125 13.890625 \r\nQ 47.125 21.390625 47.125 36.375 \r\nQ 47.125 51.421875 43.28125 58.90625 \r\nQ 39.453125 66.40625 31.78125 66.40625 \r\nz\r\nM 31.78125 74.21875 \r\nQ 44.046875 74.21875 50.515625 64.515625 \r\nQ 56.984375 54.828125 56.984375 36.375 \r\nQ 56.984375 17.96875 50.515625 8.265625 \r\nQ 44.046875 -1.421875 31.78125 -1.421875 \r\nQ 19.53125 -1.421875 13.0625 8.265625 \r\nQ 6.59375 17.96875 6.59375 36.375 \r\nQ 6.59375 54.828125 13.0625 64.515625 \r\nQ 19.53125 74.21875 31.78125 74.21875 \r\nz\r\n\" id=\"DejaVuSans-48\"/>\r\n      </defs>\r\n      <g transform=\"translate(25.55575 241.225656)scale(0.1 -0.1)\">\r\n       <use xlink:href=\"#DejaVuSans-48\"/>\r\n      </g>\r\n     </g>\r\n    </g>\r\n    <g id=\"xtick_2\">\r\n     <g id=\"line2d_2\">\r\n      <g>\r\n       <use style=\"stroke:#000000;stroke-width:0.8;\" x=\"64.977\" xlink:href=\"#m6ac6cb37e6\" y=\"226.627219\"/>\r\n      </g>\r\n     </g>\r\n     <g id=\"text_2\">\r\n      <!-- 10 -->\r\n      <defs>\r\n       <path d=\"M 12.40625 8.296875 \r\nL 28.515625 8.296875 \r\nL 28.515625 63.921875 \r\nL 10.984375 60.40625 \r\nL 10.984375 69.390625 \r\nL 28.421875 72.90625 \r\nL 38.28125 72.90625 \r\nL 38.28125 8.296875 \r\nL 54.390625 8.296875 \r\nL 54.390625 0 \r\nL 12.40625 0 \r\nz\r\n\" id=\"DejaVuSans-49\"/>\r\n      </defs>\r\n      <g transform=\"translate(58.6145 241.225656)scale(0.1 -0.1)\">\r\n       <use xlink:href=\"#DejaVuSans-49\"/>\r\n       <use x=\"63.623047\" xlink:href=\"#DejaVuSans-48\"/>\r\n      </g>\r\n     </g>\r\n    </g>\r\n    <g id=\"xtick_3\">\r\n     <g id=\"line2d_3\">\r\n      <g>\r\n       <use style=\"stroke:#000000;stroke-width:0.8;\" x=\"101.217\" xlink:href=\"#m6ac6cb37e6\" y=\"226.627219\"/>\r\n      </g>\r\n     </g>\r\n     <g id=\"text_3\">\r\n      <!-- 20 -->\r\n      <defs>\r\n       <path d=\"M 19.1875 8.296875 \r\nL 53.609375 8.296875 \r\nL 53.609375 0 \r\nL 7.328125 0 \r\nL 7.328125 8.296875 \r\nQ 12.9375 14.109375 22.625 23.890625 \r\nQ 32.328125 33.6875 34.8125 36.53125 \r\nQ 39.546875 41.84375 41.421875 45.53125 \r\nQ 43.3125 49.21875 43.3125 52.78125 \r\nQ 43.3125 58.59375 39.234375 62.25 \r\nQ 35.15625 65.921875 28.609375 65.921875 \r\nQ 23.96875 65.921875 18.8125 64.3125 \r\nQ 13.671875 62.703125 7.8125 59.421875 \r\nL 7.8125 69.390625 \r\nQ 13.765625 71.78125 18.9375 73 \r\nQ 24.125 74.21875 28.421875 74.21875 \r\nQ 39.75 74.21875 46.484375 68.546875 \r\nQ 53.21875 62.890625 53.21875 53.421875 \r\nQ 53.21875 48.921875 51.53125 44.890625 \r\nQ 49.859375 40.875 45.40625 35.40625 \r\nQ 44.1875 33.984375 37.640625 27.21875 \r\nQ 31.109375 20.453125 19.1875 8.296875 \r\nz\r\n\" id=\"DejaVuSans-50\"/>\r\n      </defs>\r\n      <g transform=\"translate(94.8545 241.225656)scale(0.1 -0.1)\">\r\n       <use xlink:href=\"#DejaVuSans-50\"/>\r\n       <use x=\"63.623047\" xlink:href=\"#DejaVuSans-48\"/>\r\n      </g>\r\n     </g>\r\n    </g>\r\n    <g id=\"xtick_4\">\r\n     <g id=\"line2d_4\">\r\n      <g>\r\n       <use style=\"stroke:#000000;stroke-width:0.8;\" x=\"137.457\" xlink:href=\"#m6ac6cb37e6\" y=\"226.627219\"/>\r\n      </g>\r\n     </g>\r\n     <g id=\"text_4\">\r\n      <!-- 30 -->\r\n      <defs>\r\n       <path d=\"M 40.578125 39.3125 \r\nQ 47.65625 37.796875 51.625 33 \r\nQ 55.609375 28.21875 55.609375 21.1875 \r\nQ 55.609375 10.40625 48.1875 4.484375 \r\nQ 40.765625 -1.421875 27.09375 -1.421875 \r\nQ 22.515625 -1.421875 17.65625 -0.515625 \r\nQ 12.796875 0.390625 7.625 2.203125 \r\nL 7.625 11.71875 \r\nQ 11.71875 9.328125 16.59375 8.109375 \r\nQ 21.484375 6.890625 26.8125 6.890625 \r\nQ 36.078125 6.890625 40.9375 10.546875 \r\nQ 45.796875 14.203125 45.796875 21.1875 \r\nQ 45.796875 27.640625 41.28125 31.265625 \r\nQ 36.765625 34.90625 28.71875 34.90625 \r\nL 20.21875 34.90625 \r\nL 20.21875 43.015625 \r\nL 29.109375 43.015625 \r\nQ 36.375 43.015625 40.234375 45.921875 \r\nQ 44.09375 48.828125 44.09375 54.296875 \r\nQ 44.09375 59.90625 40.109375 62.90625 \r\nQ 36.140625 65.921875 28.71875 65.921875 \r\nQ 24.65625 65.921875 20.015625 65.03125 \r\nQ 15.375 64.15625 9.8125 62.3125 \r\nL 9.8125 71.09375 \r\nQ 15.4375 72.65625 20.34375 73.4375 \r\nQ 25.25 74.21875 29.59375 74.21875 \r\nQ 40.828125 74.21875 47.359375 69.109375 \r\nQ 53.90625 64.015625 53.90625 55.328125 \r\nQ 53.90625 49.265625 50.4375 45.09375 \r\nQ 46.96875 40.921875 40.578125 39.3125 \r\nz\r\n\" id=\"DejaVuSans-51\"/>\r\n      </defs>\r\n      <g transform=\"translate(131.0945 241.225656)scale(0.1 -0.1)\">\r\n       <use xlink:href=\"#DejaVuSans-51\"/>\r\n       <use x=\"63.623047\" xlink:href=\"#DejaVuSans-48\"/>\r\n      </g>\r\n     </g>\r\n    </g>\r\n    <g id=\"xtick_5\">\r\n     <g id=\"line2d_5\">\r\n      <g>\r\n       <use style=\"stroke:#000000;stroke-width:0.8;\" x=\"173.697\" xlink:href=\"#m6ac6cb37e6\" y=\"226.627219\"/>\r\n      </g>\r\n     </g>\r\n     <g id=\"text_5\">\r\n      <!-- 40 -->\r\n      <defs>\r\n       <path d=\"M 37.796875 64.3125 \r\nL 12.890625 25.390625 \r\nL 37.796875 25.390625 \r\nz\r\nM 35.203125 72.90625 \r\nL 47.609375 72.90625 \r\nL 47.609375 25.390625 \r\nL 58.015625 25.390625 \r\nL 58.015625 17.1875 \r\nL 47.609375 17.1875 \r\nL 47.609375 0 \r\nL 37.796875 0 \r\nL 37.796875 17.1875 \r\nL 4.890625 17.1875 \r\nL 4.890625 26.703125 \r\nz\r\n\" id=\"DejaVuSans-52\"/>\r\n      </defs>\r\n      <g transform=\"translate(167.3345 241.225656)scale(0.1 -0.1)\">\r\n       <use xlink:href=\"#DejaVuSans-52\"/>\r\n       <use x=\"63.623047\" xlink:href=\"#DejaVuSans-48\"/>\r\n      </g>\r\n     </g>\r\n    </g>\r\n    <g id=\"xtick_6\">\r\n     <g id=\"line2d_6\">\r\n      <g>\r\n       <use style=\"stroke:#000000;stroke-width:0.8;\" x=\"209.937\" xlink:href=\"#m6ac6cb37e6\" y=\"226.627219\"/>\r\n      </g>\r\n     </g>\r\n     <g id=\"text_6\">\r\n      <!-- 50 -->\r\n      <defs>\r\n       <path d=\"M 10.796875 72.90625 \r\nL 49.515625 72.90625 \r\nL 49.515625 64.59375 \r\nL 19.828125 64.59375 \r\nL 19.828125 46.734375 \r\nQ 21.96875 47.46875 24.109375 47.828125 \r\nQ 26.265625 48.1875 28.421875 48.1875 \r\nQ 40.625 48.1875 47.75 41.5 \r\nQ 54.890625 34.8125 54.890625 23.390625 \r\nQ 54.890625 11.625 47.5625 5.09375 \r\nQ 40.234375 -1.421875 26.90625 -1.421875 \r\nQ 22.3125 -1.421875 17.546875 -0.640625 \r\nQ 12.796875 0.140625 7.71875 1.703125 \r\nL 7.71875 11.625 \r\nQ 12.109375 9.234375 16.796875 8.0625 \r\nQ 21.484375 6.890625 26.703125 6.890625 \r\nQ 35.15625 6.890625 40.078125 11.328125 \r\nQ 45.015625 15.765625 45.015625 23.390625 \r\nQ 45.015625 31 40.078125 35.4375 \r\nQ 35.15625 39.890625 26.703125 39.890625 \r\nQ 22.75 39.890625 18.8125 39.015625 \r\nQ 14.890625 38.140625 10.796875 36.28125 \r\nz\r\n\" id=\"DejaVuSans-53\"/>\r\n      </defs>\r\n      <g transform=\"translate(203.5745 241.225656)scale(0.1 -0.1)\">\r\n       <use xlink:href=\"#DejaVuSans-53\"/>\r\n       <use x=\"63.623047\" xlink:href=\"#DejaVuSans-48\"/>\r\n      </g>\r\n     </g>\r\n    </g>\r\n    <g id=\"xtick_7\">\r\n     <g id=\"line2d_7\">\r\n      <g>\r\n       <use style=\"stroke:#000000;stroke-width:0.8;\" x=\"246.177\" xlink:href=\"#m6ac6cb37e6\" y=\"226.627219\"/>\r\n      </g>\r\n     </g>\r\n     <g id=\"text_7\">\r\n      <!-- 60 -->\r\n      <defs>\r\n       <path d=\"M 33.015625 40.375 \r\nQ 26.375 40.375 22.484375 35.828125 \r\nQ 18.609375 31.296875 18.609375 23.390625 \r\nQ 18.609375 15.53125 22.484375 10.953125 \r\nQ 26.375 6.390625 33.015625 6.390625 \r\nQ 39.65625 6.390625 43.53125 10.953125 \r\nQ 47.40625 15.53125 47.40625 23.390625 \r\nQ 47.40625 31.296875 43.53125 35.828125 \r\nQ 39.65625 40.375 33.015625 40.375 \r\nz\r\nM 52.59375 71.296875 \r\nL 52.59375 62.3125 \r\nQ 48.875 64.0625 45.09375 64.984375 \r\nQ 41.3125 65.921875 37.59375 65.921875 \r\nQ 27.828125 65.921875 22.671875 59.328125 \r\nQ 17.53125 52.734375 16.796875 39.40625 \r\nQ 19.671875 43.65625 24.015625 45.921875 \r\nQ 28.375 48.1875 33.59375 48.1875 \r\nQ 44.578125 48.1875 50.953125 41.515625 \r\nQ 57.328125 34.859375 57.328125 23.390625 \r\nQ 57.328125 12.15625 50.6875 5.359375 \r\nQ 44.046875 -1.421875 33.015625 -1.421875 \r\nQ 20.359375 -1.421875 13.671875 8.265625 \r\nQ 6.984375 17.96875 6.984375 36.375 \r\nQ 6.984375 53.65625 15.1875 63.9375 \r\nQ 23.390625 74.21875 37.203125 74.21875 \r\nQ 40.921875 74.21875 44.703125 73.484375 \r\nQ 48.484375 72.75 52.59375 71.296875 \r\nz\r\n\" id=\"DejaVuSans-54\"/>\r\n      </defs>\r\n      <g transform=\"translate(239.8145 241.225656)scale(0.1 -0.1)\">\r\n       <use xlink:href=\"#DejaVuSans-54\"/>\r\n       <use x=\"63.623047\" xlink:href=\"#DejaVuSans-48\"/>\r\n      </g>\r\n     </g>\r\n    </g>\r\n    <g id=\"xtick_8\">\r\n     <g id=\"line2d_8\">\r\n      <g>\r\n       <use style=\"stroke:#000000;stroke-width:0.8;\" x=\"282.417\" xlink:href=\"#m6ac6cb37e6\" y=\"226.627219\"/>\r\n      </g>\r\n     </g>\r\n     <g id=\"text_8\">\r\n      <!-- 70 -->\r\n      <defs>\r\n       <path d=\"M 8.203125 72.90625 \r\nL 55.078125 72.90625 \r\nL 55.078125 68.703125 \r\nL 28.609375 0 \r\nL 18.3125 0 \r\nL 43.21875 64.59375 \r\nL 8.203125 64.59375 \r\nz\r\n\" id=\"DejaVuSans-55\"/>\r\n      </defs>\r\n      <g transform=\"translate(276.0545 241.225656)scale(0.1 -0.1)\">\r\n       <use xlink:href=\"#DejaVuSans-55\"/>\r\n       <use x=\"63.623047\" xlink:href=\"#DejaVuSans-48\"/>\r\n      </g>\r\n     </g>\r\n    </g>\r\n   </g>\r\n   <g id=\"matplotlib.axis_2\">\r\n    <g id=\"ytick_1\">\r\n     <g id=\"line2d_9\">\r\n      <defs>\r\n       <path d=\"M 0 0 \r\nL -3.5 0 \r\n\" id=\"md713793ea3\" style=\"stroke:#000000;stroke-width:0.8;\"/>\r\n      </defs>\r\n      <g>\r\n       <use style=\"stroke:#000000;stroke-width:0.8;\" x=\"26.925\" xlink:href=\"#md713793ea3\" y=\"10.999219\"/>\r\n      </g>\r\n     </g>\r\n     <g id=\"text_9\">\r\n      <!-- 0 -->\r\n      <g transform=\"translate(13.5625 14.798437)scale(0.1 -0.1)\">\r\n       <use xlink:href=\"#DejaVuSans-48\"/>\r\n      </g>\r\n     </g>\r\n    </g>\r\n    <g id=\"ytick_2\">\r\n     <g id=\"line2d_10\">\r\n      <g>\r\n       <use style=\"stroke:#000000;stroke-width:0.8;\" x=\"26.925\" xlink:href=\"#md713793ea3\" y=\"47.239219\"/>\r\n      </g>\r\n     </g>\r\n     <g id=\"text_10\">\r\n      <!-- 10 -->\r\n      <g transform=\"translate(7.2 51.038437)scale(0.1 -0.1)\">\r\n       <use xlink:href=\"#DejaVuSans-49\"/>\r\n       <use x=\"63.623047\" xlink:href=\"#DejaVuSans-48\"/>\r\n      </g>\r\n     </g>\r\n    </g>\r\n    <g id=\"ytick_3\">\r\n     <g id=\"line2d_11\">\r\n      <g>\r\n       <use style=\"stroke:#000000;stroke-width:0.8;\" x=\"26.925\" xlink:href=\"#md713793ea3\" y=\"83.479219\"/>\r\n      </g>\r\n     </g>\r\n     <g id=\"text_11\">\r\n      <!-- 20 -->\r\n      <g transform=\"translate(7.2 87.278437)scale(0.1 -0.1)\">\r\n       <use xlink:href=\"#DejaVuSans-50\"/>\r\n       <use x=\"63.623047\" xlink:href=\"#DejaVuSans-48\"/>\r\n      </g>\r\n     </g>\r\n    </g>\r\n    <g id=\"ytick_4\">\r\n     <g id=\"line2d_12\">\r\n      <g>\r\n       <use style=\"stroke:#000000;stroke-width:0.8;\" x=\"26.925\" xlink:href=\"#md713793ea3\" y=\"119.719219\"/>\r\n      </g>\r\n     </g>\r\n     <g id=\"text_12\">\r\n      <!-- 30 -->\r\n      <g transform=\"translate(7.2 123.518437)scale(0.1 -0.1)\">\r\n       <use xlink:href=\"#DejaVuSans-51\"/>\r\n       <use x=\"63.623047\" xlink:href=\"#DejaVuSans-48\"/>\r\n      </g>\r\n     </g>\r\n    </g>\r\n    <g id=\"ytick_5\">\r\n     <g id=\"line2d_13\">\r\n      <g>\r\n       <use style=\"stroke:#000000;stroke-width:0.8;\" x=\"26.925\" xlink:href=\"#md713793ea3\" y=\"155.959219\"/>\r\n      </g>\r\n     </g>\r\n     <g id=\"text_13\">\r\n      <!-- 40 -->\r\n      <g transform=\"translate(7.2 159.758437)scale(0.1 -0.1)\">\r\n       <use xlink:href=\"#DejaVuSans-52\"/>\r\n       <use x=\"63.623047\" xlink:href=\"#DejaVuSans-48\"/>\r\n      </g>\r\n     </g>\r\n    </g>\r\n    <g id=\"ytick_6\">\r\n     <g id=\"line2d_14\">\r\n      <g>\r\n       <use style=\"stroke:#000000;stroke-width:0.8;\" x=\"26.925\" xlink:href=\"#md713793ea3\" y=\"192.199219\"/>\r\n      </g>\r\n     </g>\r\n     <g id=\"text_14\">\r\n      <!-- 50 -->\r\n      <g transform=\"translate(7.2 195.998437)scale(0.1 -0.1)\">\r\n       <use xlink:href=\"#DejaVuSans-53\"/>\r\n       <use x=\"63.623047\" xlink:href=\"#DejaVuSans-48\"/>\r\n      </g>\r\n     </g>\r\n    </g>\r\n   </g>\r\n   <g id=\"patch_3\">\r\n    <path d=\"M 26.925 226.627219 \r\nL 26.925 9.187219 \r\n\" style=\"fill:none;stroke:#000000;stroke-linecap:square;stroke-linejoin:miter;stroke-width:0.8;\"/>\r\n   </g>\r\n   <g id=\"patch_4\">\r\n    <path d=\"M 316.845 226.627219 \r\nL 316.845 9.187219 \r\n\" style=\"fill:none;stroke:#000000;stroke-linecap:square;stroke-linejoin:miter;stroke-width:0.8;\"/>\r\n   </g>\r\n   <g id=\"patch_5\">\r\n    <path d=\"M 26.925 226.627219 \r\nL 316.845 226.627219 \r\n\" style=\"fill:none;stroke:#000000;stroke-linecap:square;stroke-linejoin:miter;stroke-width:0.8;\"/>\r\n   </g>\r\n   <g id=\"patch_6\">\r\n    <path d=\"M 26.925 9.187219 \r\nL 316.845 9.187219 \r\n\" style=\"fill:none;stroke:#000000;stroke-linecap:square;stroke-linejoin:miter;stroke-width:0.8;\"/>\r\n   </g>\r\n  </g>\r\n </g>\r\n <defs>\r\n  <clipPath id=\"pb2656956c8\">\r\n   <rect height=\"217.44\" width=\"289.92\" x=\"26.925\" y=\"9.187219\"/>\r\n  </clipPath>\r\n </defs>\r\n</svg>\r\n",
      "text/plain": "<Figure size 432x288 with 1 Axes>"
     },
     "metadata": {
      "needs_background": "light"
     },
     "output_type": "display_data"
    }
   ],
   "source": [
    "# test\n",
    "from matplotlib import cm\n",
    "def short_array_to_numpy(height, width, frame):\n",
    "    return numpy.fromiter(frame, dtype=\"uint16\").reshape(height, width)\n",
    "def centikelvin_to_celsius(t):\n",
    "    return (t - 27315) / 100\n",
    "\n",
    "def to_fahrenheit(ck):\n",
    "    c = centikelvin_to_celsius(ck)\n",
    "    return c * 9 / 5 + 32\n",
    "\n",
    "\n",
    "height, width, net_array = incoming_frames[-1]\n",
    "arr = short_array_to_numpy(height, width, net_array)\n",
    "\n",
    "plt.imshow(arr, cmap=cm.plasma)\n",
    "arr_celsius = centikelvin_to_celsius(arr)\n",
    "print(arr_celsius)"
   ]
  },
  {
   "cell_type": "code",
   "execution_count": null,
   "metadata": {},
   "outputs": [],
   "source": []
  }
 ],
 "metadata": {
  "kernelspec": {
   "display_name": "Python 3",
   "language": "python",
   "name": "python3"
  },
  "language_info": {
   "codemirror_mode": {
    "name": "ipython",
    "version": 3
   },
   "file_extension": ".py",
   "mimetype": "text/x-python",
   "name": "python",
   "nbconvert_exporter": "python",
   "pygments_lexer": "ipython3",
   "version": "3.6.9-final"
  }
 },
 "nbformat": 4,
 "nbformat_minor": 4
}