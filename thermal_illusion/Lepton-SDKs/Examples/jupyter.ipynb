{
 "cells": [
  {
   "cell_type": "markdown",
   "execution_count": null,
   "metadata": {},
   "outputs": [],
   "source": [
    "# Interacting with the Lepton from Python\n",
    "\n",
    "If you're new to Jupyter these are the basics. Code is organized into \"cells\" which are blocks of code that can \n",
    "be run one at a time, in any order.\n",
    "You can execute blocks by highlighting the cell and entering shift+enter or by clicking Run > Run Selected Cells.\n",
    "\n",
    "Note that a line begining with `!` will be executed in the shell/command prompt of your system. Use the following cell to make\n",
    "sure you have all of the dependencies of this notebook."
   ]
  },
  {
   "cell_type": "code",
   "execution_count": 1,
   "metadata": {},
   "outputs": [
    {
     "name": "stdout",
     "output_type": "stream",
     "text": "Requirement already satisfied: pythonnet in c:\\users\\hayato\\miniconda3\\lib\\site-packages (2.3.0)\nRequirement already satisfied: numpy in c:\\users\\hayato\\miniconda3\\lib\\site-packages (1.18.1)\nRequirement already satisfied: matplotlib in c:\\users\\hayato\\miniconda3\\lib\\site-packages (3.1.3)\nRequirement already satisfied: pyparsing!=2.0.4,!=2.1.2,!=2.1.6,>=2.0.1 in c:\\users\\hayato\\miniconda3\\lib\\site-packages (from matplotlib) (2.4.6)\nRequirement already satisfied: cycler>=0.10 in c:\\users\\hayato\\miniconda3\\lib\\site-packages (from matplotlib) (0.10.0)\nRequirement already satisfied: kiwisolver>=1.0.1 in c:\\users\\hayato\\miniconda3\\lib\\site-packages (from matplotlib) (1.1.0)\nRequirement already satisfied: numpy>=1.11 in c:\\users\\hayato\\miniconda3\\lib\\site-packages (from matplotlib) (1.18.1)\nRequirement already satisfied: python-dateutil>=2.1 in c:\\users\\hayato\\miniconda3\\lib\\site-packages (from matplotlib) (2.8.1)\nRequirement already satisfied: six in c:\\users\\hayato\\miniconda3\\lib\\site-packages (from cycler>=0.10->matplotlib) (1.14.0)\nRequirement already satisfied: setuptools in c:\\users\\hayato\\miniconda3\\lib\\site-packages (from kiwisolver>=1.0.1->matplotlib) (45.1.0.post20200127)\n"
    }
   ],
   "source": [
    "! python -m pip install pythonnet \n",
    "! python -m pip install numpy \n",
    "! python -m pip install matplotlib "
   ]
  },
  {
   "cell_type": "markdown",
   "execution_count": null,
   "metadata": {},
   "outputs": [],
   "source": [
    "## Setup Python's path for the Lepton .NET dlls\n",
    "\n",
    "Note that because this is a .NET library, it uses .NET naming conventions \n",
    "and requires importing `clr` (provided by the `pythonnet` package on pip).\n",
    "\n",
    "This first cell adds the right version (64 bit vs 32 bit) of the library to \n",
    "python's path based on the bit-depth of the python thats currently running. "
   ]
  },
  {
   "cell_type": "code",
   "execution_count": 2,
   "metadata": {},
   "outputs": [],
   "source": [
    "import clr # needs the \"pythonnet\" package\n",
    "import sys\n",
    "import os\n",
    "import time\n",
    "\n",
    "# check whether python is running as 64bit or 32bit\n",
    "# to import the right .NET dll\n",
    "import platform\n",
    "bits, name = platform.architecture()\n",
    "\n",
    "if bits == \"64bit\":\n",
    "\tfolder = [\"x64\"]\n",
    "else:\n",
    "\tfolder = [\"x86\"]\n",
    "\n",
    "sys.path.append(os.path.join(\"..\", *folder))"
   ]
  },
  {
   "cell_type": "markdown",
   "execution_count": null,
   "metadata": {},
   "outputs": [],
   "source": [
    "## Import the CCI SDK"
   ]
  },
  {
   "cell_type": "code",
   "execution_count": 3,
   "metadata": {},
   "outputs": [],
   "source": [
    "# AddReference makes the following `From Lepton ...` line \n",
    "# run by hooking the LeptonUVC dll into the python import \n",
    "# mechanism\n",
    "clr.AddReference(\"LeptonUVC\")\n",
    "\n",
    "from Lepton import CCI"
   ]
  },
  {
   "cell_type": "markdown",
   "execution_count": null,
   "metadata": {},
   "outputs": [],
   "source": [
    "Look for a PureThermal USB device."
   ]
  },
  {
   "cell_type": "code",
   "execution_count": 4,
   "metadata": {},
   "outputs": [],
   "source": [
    "found_device = None\n",
    "for device in CCI.GetDevices():\n",
    "    if device.Name.startswith(\"PureThermal\"):\n",
    "        found_device = device\n",
    "        break\n",
    "\n",
    "if not found_device:\n",
    "    print(\"Couldn't find lepton device\")\n",
    "else:\n",
    "    lep = found_device.Open()"
   ]
  },
  {
   "cell_type": "markdown",
   "execution_count": null,
   "metadata": {},
   "outputs": [],
   "source": [
    "Get the current camera uptime. This is a good way to test if the \n",
    "connection is working."
   ]
  },
  {
   "cell_type": "code",
   "execution_count": 5,
   "metadata": {},
   "outputs": [
    {
     "data": {
      "text/plain": "'\\nstr(lep.oem.GetSoftwareVersion())\\n'"
     },
     "execution_count": 5,
     "metadata": {},
     "output_type": "execute_result"
    }
   ],
   "source": [
    "\"\"\"\n",
    "str(lep.oem.GetSoftwareVersion())\n",
    "\"\"\""
   ]
  },
  {
   "cell_type": "code",
   "execution_count": 6,
   "metadata": {},
   "outputs": [
    {
     "data": {
      "text/plain": "'\\nlep.sys.GetCameraUpTime()\\n'"
     },
     "execution_count": 6,
     "metadata": {},
     "output_type": "execute_result"
    }
   ],
   "source": [
    "\"\"\"\n",
    "lep.sys.GetCameraUpTime()\n",
    "\"\"\""
   ]
  },
  {
   "cell_type": "markdown",
   "execution_count": null,
   "metadata": {},
   "outputs": [],
   "source": [
    "Run a FFC. If this command executes successfully, the shutter on the lepton should close and open."
   ]
  },
  {
   "cell_type": "code",
   "execution_count": 7,
   "metadata": {},
   "outputs": [
    {
     "data": {
      "text/plain": "'\\nlep.sys.RunFFCNormalization()\\n'"
     },
     "execution_count": 7,
     "metadata": {},
     "output_type": "execute_result"
    }
   ],
   "source": [
    "\"\"\"\n",
    "lep.sys.RunFFCNormalization()\n",
    "\"\"\""
   ]
  },
  {
   "cell_type": "markdown",
   "execution_count": null,
   "metadata": {},
   "outputs": [],
   "source": [
    "Get the current palette (**P**seudo-**color** **L**ook **U**p **T**able)"
   ]
  },
  {
   "cell_type": "code",
   "execution_count": 8,
   "metadata": {},
   "outputs": [
    {
     "data": {
      "text/plain": "'\\nlep.vid.GetPcolorLut()\\n'"
     },
     "execution_count": 8,
     "metadata": {},
     "output_type": "execute_result"
    }
   ],
   "source": [
    "\"\"\"\n",
    "lep.vid.GetPcolorLut()\n",
    "\"\"\""
   ]
  },
  {
   "cell_type": "code",
   "execution_count": 9,
   "metadata": {},
   "outputs": [
    {
     "data": {
      "text/plain": "'\\nlep.sys.SetGainMode(CCI.Sys.GainMode.LOW)\\n'"
     },
     "execution_count": 9,
     "metadata": {},
     "output_type": "execute_result"
    }
   ],
   "source": [
    "\"\"\"\n",
    "lep.sys.SetGainMode(CCI.Sys.GainMode.LOW)\n",
    "\"\"\""
   ]
  },
  {
   "cell_type": "markdown",
   "execution_count": null,
   "metadata": {},
   "outputs": [],
   "source": [
    "You can assign the palette with either its index or\n",
    "its name"
   ]
  },
  {
   "cell_type": "code",
   "execution_count": 10,
   "metadata": {},
   "outputs": [
    {
     "data": {
      "text/plain": "'\\nlep.vid.SetPcolorLut(2)\\n'"
     },
     "execution_count": 10,
     "metadata": {},
     "output_type": "execute_result"
    }
   ],
   "source": [
    "\"\"\"\n",
    "lep.vid.SetPcolorLut(2)\n",
    "\"\"\""
   ]
  },
  {
   "cell_type": "markdown",
   "execution_count": null,
   "metadata": {},
   "outputs": [],
   "source": [
    "The full list of available palettes is:"
   ]
  },
  {
   "cell_type": "code",
   "execution_count": 11,
   "metadata": {},
   "outputs": [
    {
     "data": {
      "text/plain": "'\\nfrom System import Enum\\nlist(Enum.GetNames(CCI.Vid.PcolorLut))\\n'"
     },
     "execution_count": 11,
     "metadata": {},
     "output_type": "execute_result"
    }
   ],
   "source": [
    "\"\"\"\n",
    "from System import Enum\n",
    "list(Enum.GetNames(CCI.Vid.PcolorLut))\n",
    "\"\"\""
   ]
  },
  {
   "cell_type": "markdown",
   "execution_count": null,
   "metadata": {},
   "outputs": [],
   "source": [
    "## Streaming frames from the Lepton\n",
    "\n",
    "Make sure to keep track of the capture object because creating more than one instance\n",
    "of it during a single session can cause problems. \n",
    "\n",
    "IR16Filters is a library for grabbing Y16 (16 bit greyscale) images from a webcam\n",
    "because most webcam libraries don't support this format.\n",
    "\n",
    "numpy is a library for number crunching in python that we can use to hold incomming \n",
    "images as 2-dimensional arrays, and matplotlib supports displaying and colorizing \n",
    "incomming images."
   ]
  },
  {
   "cell_type": "code",
   "execution_count": 12,
   "metadata": {},
   "outputs": [],
   "source": [
    "clr.AddReference(\"ManagedIR16Filters\")\n",
    "from IR16Filters import IR16Capture, NewIR16FrameEvent, NewBytesFrameEvent\n",
    "\n",
    "import numpy\n",
    "from matplotlib import pyplot as plt\n",
    "# %matplotlib inline is Jupyter magic to display plot results inline in the \n",
    "# notebook\n",
    "%matplotlib inline\n",
    "\n",
    "capture = None"
   ]
  },
  {
   "cell_type": "markdown",
   "execution_count": null,
   "metadata": {},
   "outputs": [],
   "source": [
    "Start saving incomming images in a queue with a max size so we don't \n",
    "use too much memory. Set maxlen higher values to keep more history. "
   ]
  },
  {
   "cell_type": "code",
   "execution_count": 21,
   "metadata": {},
   "outputs": [],
   "source": [
    "from collections import deque\n",
    "\n",
    "# change maxlen to control the number of frames of history we want to keep\n",
    "incoming_frames = deque(maxlen=10)\n",
    "def got_a_frame(short_array, width, height):\n",
    "    incoming_frames.append((height, width, short_array))\n",
    "\n",
    "if capture != None:\n",
    "    # don't recreate capture if we already made one\n",
    "    capture.RunGraph()\n",
    "else:\n",
    "    capture = IR16Capture()\n",
    "    capture.SetupGraphWithBytesCallback(NewBytesFrameEvent(got_a_frame))\n",
    "    capture.RunGraph()"
   ]
  },
  {
   "cell_type": "markdown",
   "execution_count": null,
   "metadata": {},
   "outputs": [],
   "source": [
    "Skip executing the next cell to keep `incomming_frames`\n",
    "always stocked with new images"
   ]
  },
  {
   "cell_type": "code",
   "execution_count": 14,
   "metadata": {},
   "outputs": [
    {
     "data": {
      "text/plain": "True"
     },
     "execution_count": 14,
     "metadata": {},
     "output_type": "execute_result"
    }
   ],
   "source": [
    "capture.StopGraph()"
   ]
  },
  {
   "cell_type": "code",
   "execution_count": 15,
   "metadata": {},
   "outputs": [
    {
     "data": {
      "text/plain": "'\\ndef short_array_to_numpy(height, width, frame):\\n    return numpy.fromiter(frame, dtype=\"uint16\").reshape(height, width)\\n'"
     },
     "execution_count": 15,
     "metadata": {},
     "output_type": "execute_result"
    }
   ],
   "source": [
    "\"\"\"\n",
    "def short_array_to_numpy(height, width, frame):\n",
    "    return numpy.fromiter(frame, dtype=\"uint16\").reshape(height, width)\n",
    "\"\"\""
   ]
  },
  {
   "cell_type": "markdown",
   "execution_count": null,
   "metadata": {},
   "outputs": [],
   "source": [
    "Grab the most recent image in the queue (python indexes negative numbers\n",
    "backwards from the end of arrays) and display it with matplotlib.\n",
    "\n",
    "If the graph is currently running, this should update the frame everytime you\n",
    "re-run the following cell. "
   ]
  },
  {
   "cell_type": "code",
   "execution_count": 16,
   "metadata": {},
   "outputs": [
    {
     "data": {
      "text/plain": "'\\nfrom matplotlib import cm\\n\\nheight, width, net_array = incoming_frames[-1]\\narr = short_array_to_numpy(height, width, net_array)\\n\\nplt.imshow(arr, cmap=cm.plasma)\\n'"
     },
     "execution_count": 16,
     "metadata": {},
     "output_type": "execute_result"
    }
   ],
   "source": [
    "\"\"\"\n",
    "from matplotlib import cm\n",
    "\n",
    "height, width, net_array = incoming_frames[-1]\n",
    "arr = short_array_to_numpy(height, width, net_array)\n",
    "\n",
    "plt.imshow(arr, cmap=cm.plasma)\n",
    "\"\"\""
   ]
  },
  {
   "cell_type": "markdown",
   "execution_count": null,
   "metadata": {},
   "outputs": [],
   "source": [
    "You can show the image with a variety of different colormaps. This doesn't use the lepton\n",
    "palette, because we are getting the raw 16-bit image and matplotlib is colorizing it for display purposes. \n",
    "\n",
    "`cm.viridis` and `cm.plasma` are both perceptually uniform and should use most of their colorspaces. `cm.bwr` gives a nice hot and cold effect. A full list of avaiable colormaps can be found in \n",
    "the matplotlib docs:\n",
    "[matplotlib.org/examples/color/colormaps_reference.html](https://matplotlib.org/examples/color/colormaps_reference.html)"
   ]
  },
  {
   "cell_type": "markdown",
   "execution_count": null,
   "metadata": {},
   "outputs": [],
   "source": [
    "## Dealing with temperatures\n",
    "\n",
    "If you are using a Lepton 2.5 or 3.5, radiometry should be enabled. When radiometry is on, \n",
    "pixel values are in centikelvin so that they can be represented by unsigned 16 bit integers.\n",
    "Note that 100cK = 1K. \n",
    "Converting to Celcius can be done by dividing by 100 and subtracting absolute zero as shown below.\n",
    "\n",
    "The following only works if the camera supports tlinear. Use the block \n",
    "below to test support."
   ]
  },
  {
   "cell_type": "code",
   "execution_count": 17,
   "metadata": {},
   "outputs": [
    {
     "data": {
      "text/plain": "'\\ntry:\\n    lep.rad.SetTLinearEnableStateChecked(True)\\n    print(\"this lepton supports tlinear\")\\nexcept:\\n    print(\"this lepton does not support tlinear\")\\n'"
     },
     "execution_count": 17,
     "metadata": {},
     "output_type": "execute_result"
    }
   ],
   "source": [
    "\"\"\"\n",
    "try:\n",
    "    lep.rad.SetTLinearEnableStateChecked(True)\n",
    "    print(\"this lepton supports tlinear\")\n",
    "except:\n",
    "    print(\"this lepton does not support tlinear\")\n",
    "\"\"\""
   ]
  },
  {
   "cell_type": "code",
   "execution_count": 18,
   "metadata": {},
   "outputs": [
    {
     "data": {
      "text/plain": "'\\nheight, width, net_array = incoming_frames[-1]\\narr = short_array_to_numpy(height, width, net_array)\\n\\ndef centikelvin_to_celsius(t):\\n    return (t - 27315) / 100\\n\\ndef to_fahrenheit(ck):\\n    c = centikelvin_to_celsius(ck)\\n    return c * 9 / 5 + 32\\n\\n# get the max image temp\\nprint(\"maximum temp {:.2f} ºF / {:.2f} ºC\".format(\\n    to_fahrenheit(arr.max()), centikelvin_to_celsius(arr.max())))\\n# get the average image temp\\nprint(\"average temp {:.2f} ºF / {:.2f} ºC\".format(\\n    to_fahrenheit(arr.mean()), centikelvin_to_celsius(arr.mean())))\\n'"
     },
     "execution_count": 18,
     "metadata": {},
     "output_type": "execute_result"
    }
   ],
   "source": [
    "\"\"\"\n",
    "height, width, net_array = incoming_frames[-1]\n",
    "arr = short_array_to_numpy(height, width, net_array)\n",
    "\n",
    "def centikelvin_to_celsius(t):\n",
    "    return (t - 27315) / 100\n",
    "\n",
    "def to_fahrenheit(ck):\n",
    "    c = centikelvin_to_celsius(ck)\n",
    "    return c * 9 / 5 + 32\n",
    "\n",
    "# get the max image temp\n",
    "print(\"maximum temp {:.2f} ºF / {:.2f} ºC\".format(\n",
    "    to_fahrenheit(arr.max()), centikelvin_to_celsius(arr.max())))\n",
    "# get the average image temp\n",
    "print(\"average temp {:.2f} ºF / {:.2f} ºC\".format(\n",
    "    to_fahrenheit(arr.mean()), centikelvin_to_celsius(arr.mean())))\n",
    "\"\"\"\n"
   ]
  },
  {
   "cell_type": "code",
   "execution_count": 27,
   "metadata": {},
   "outputs": [
    {
     "name": "stdout",
     "output_type": "stream",
     "text": "21.72 21.7  21.85 21.76\n  21.89 21.82 21.8  21.74 21.82 21.8  21.76 21.91 21.76 21.78 21.98 21.72\n  21.8  21.74 21.89 21.95 21.31 19.66 18.7  18.57 19.99 20.07 18.42 17.86\n  17.88 18.3  19.33 22.43 26.65 33.87 36.39 32.82]\n [22.08 22.11 22.15 22.15 22.13 22.   21.95 22.06 22.04 22.02 21.91 21.89\n  22.08 21.98 22.   22.04 22.   22.11 21.98 21.98 22.04 22.11 22.11 22.06\n  22.02 22.13 21.98 21.98 21.91 21.91 21.85 21.87 21.87 21.85 21.78 21.76\n  21.78 21.67 21.65 21.7  21.61 21.57 21.72 21.91 21.7  21.76 21.8  21.57\n  21.87 21.85 21.72 21.91 21.8  21.82 21.89 21.93 21.78 21.76 21.87 21.74\n  21.85 21.87 21.5  21.11 19.41 18.55 18.35 19.52 20.62 19.06 18.08 17.59\n  17.65 18.5  20.77 24.46 31.3  36.88 34.   31.42]\n [22.13 22.08 22.28 22.11 22.   21.95 21.93 21.98 21.8  21.98 21.89 22.04\n  22.02 21.8  21.93 21.98 22.   21.98 21.98 22.08 22.06 21.98 22.04 22.17\n  21.95 22.08 21.98 21.91 21.95 21.91 21.87 21.78 21.78 21.7  21.65 21.67\n  21.67 21.59 21.48 21.48 21.42 21.65 21.85 21.76 21.76 21.74 21.63 21.67\n  21.85 21.65 21.93 21.72 21.93 21.87 21.85 21.95 21.72 21.87 21.82 21.8\n  21.5  21.31 21.11 21.29 20.6  19.01 19.17 20.55 20.05 18.33 17.99 17.79\n  17.7  19.94 23.53 28.78 36.05 35.52 31.91 31.44]\n [22.06 22.11 22.19 22.15 22.19 22.11 22.02 21.95 21.98 21.89 21.98 21.95\n  22.04 22.06 21.93 21.95 22.08 22.17 22.02 22.02 22.17 22.11 22.13 22.08\n  22.02 21.98 22.06 21.87 21.72 22.02 21.8  21.82 21.72 21.54 21.61 21.63\n  21.72 21.35 21.39 21.44 21.57 21.74 21.76 21.72 21.76 21.65 21.7  21.76\n  21.78 21.87 21.78 21.89 21.78 21.91 21.89 22.11 21.89 21.89 21.78 21.5\n  21.07 21.11 20.96 21.22 21.16 20.77 20.77 20.6  18.93 18.19 18.44 18.04\n  18.97 22.49 27.22 34.27 37.06 33.13 31.46 33.54]\n [22.15 22.13 22.15 22.17 22.19 22.02 21.95 21.95 22.04 22.08 21.87 21.82\n  21.91 21.74 21.93 21.85 21.95 21.91 22.06 22.04 22.08 21.98 22.04 22.\n  22.06 21.93 21.91 21.76 21.72 21.87 21.93 21.8  21.85 21.61 21.63 21.54\n  21.65 21.57 21.44 21.52 21.78 21.8  21.65 21.8  21.7  21.72 21.65 21.87\n  21.82 21.7  21.89 21.78 21.8  21.89 21.98 22.08 21.76 21.7  21.37 21.18\n  21.13 21.05 21.09 21.24 21.31 20.98 21.09 20.03 18.66 18.28 18.46 18.7\n  20.92 24.71 31.85 37.23 34.88 31.91 32.49 35.98]\n [22.28 22.15 22.11 22.08 22.17 22.15 22.13 22.02 22.19 22.04 21.87 21.85\n  21.93 21.87 21.93 21.89 21.93 21.95 22.   21.95 22.   21.85 22.   22.04\n  21.95 21.91 21.78 21.85 21.61 21.63 21.8  21.78 21.65 21.48 21.52 21.42\n  21.42 21.46 21.61 21.65 21.59 21.85 21.7  21.63 21.59 21.72 21.78 21.63\n  21.89 21.78 21.74 21.93 21.76 21.91 21.76 21.7  21.54 21.33 21.24 21.33\n  21.13 21.16 21.01 21.2  21.46 21.39 21.26 21.2  19.83 18.62 18.66 20.16\n  23.22 28.98 36.63 36.31 32.76 32.12 34.9  36.99]\n [22.43 22.08 22.26 22.17 22.06 22.04 22.08 22.13 22.06 22.02 22.08 21.91\n  21.85 21.82 21.95 21.98 21.89 22.02 22.11 22.04 21.91 21.87 22.06 21.85\n  21.98 21.76 21.93 21.78 21.54 21.72 21.8  21.76 21.59 21.54 21.48 21.46\n  21.57 21.85 21.63 21.87 21.74 21.78 21.76 21.76 21.67 21.87 21.85 21.78\n  21.76 21.85 21.95 21.87 21.87 21.67 21.67 21.57 21.46 21.29 21.35 21.35\n  21.13 21.24 20.98 21.2  20.98 21.03 21.39 21.59 21.46 20.44 19.86 22.28\n  26.71 34.93 37.32 33.93 32.07 34.06 37.25 34.29]\n [22.19 21.98 22.23 22.26 22.17 22.17 22.06 22.11 21.98 21.91 21.95 22.\n  21.8  21.8  21.85 21.95 21.95 22.08 21.89 22.   21.89 21.76 22.02 21.89\n  21.87 21.7  21.78 21.67 21.57 21.89 21.74 21.67 21.63 21.31 21.46 21.54\n  21.78 21.7  21.67 21.7  21.85 21.72 21.91 21.82 21.87 21.87 21.87 21.85\n  21.72 21.87 21.93 21.82 21.63 21.54 21.65 21.54 21.46 21.39 21.46 21.24\n  21.09 21.22 21.11 20.7  20.27 20.27 20.77 21.5  21.61 21.61 22.6  25.\n  32.61 37.71 34.95 32.3  33.15 36.65 36.8  31.03]\n [22.19 21.95 22.08 22.15 22.28 22.15 22.08 22.02 21.98 22.04 22.02 22.15\n  22.04 21.85 21.76 21.95 22.04 21.82 21.95 21.93 21.82 21.65 21.8  21.85\n  21.76 21.67 21.78 21.5  21.63 21.78 21.65 21.57 21.52 21.35 21.46 21.65\n  21.8  21.65 21.8  21.67 21.7  21.89 21.89 22.   21.8  21.85 21.89 21.87\n  21.78 21.91 21.8  21.63 21.61 21.52 21.35 21.5  21.24 21.31 21.33 21.18\n  21.09 21.13 20.75 19.7  19.41 19.66 20.34 20.9  21.46 22.   23.85 29.98\n  37.04 36.35 32.76 32.26 35.5  37.49 32.16 27.95]\n [22.04 22.04 21.98 22.02 22.28 22.15 21.89 22.19 22.23 22.   22.06 22.13\n  22.   21.89 21.82 21.8  21.82 21.93 21.87 21.72 21.82 21.74 21.91 21.89\n  21.72 21.59 21.63 21.65 21.7  21.67 21.7  21.74 21.44 21.48 21.72 21.89\n  21.85 21.76 21.8  21.85 21.8  21.78 22.06 21.93 21.8  21.78 21.87 21.74\n  21.7  21.8  21.98 21.59 21.44 21.65 21.44 21.46 21.39 21.48 21.46 21.22\n  21.2  21.11 20.16 19.48 19.59 19.01 19.44 20.38 21.33 22.73 27.49 35.31\n  37.47 33.67 31.83 34.06 37.62 34.56 27.53 25.48]\n [21.82 22.02 22.   21.93 22.11 22.   22.02 22.13 22.36 22.08 22.   21.85\n  22.02 21.95 21.95 21.82 21.89 21.76 21.85 21.8  21.65 21.72 21.72 21.74\n  21.61 21.52 21.67 21.65 21.74 21.72 21.5  21.65 21.7  21.7  21.89 21.72\n  22.02 21.82 21.82 21.85 21.91 21.87 22.   21.74 21.74 21.93 21.85 21.74\n  21.78 21.76 21.61 21.54 21.48 21.52 21.48 21.61 21.87 21.74 21.59 21.33\n  21.07 20.88 19.83 19.46 19.57 18.99 19.06 20.03 21.95 25.17 32.94 37.73\n  34.67 31.91 32.82 36.69 36.59 29.14 25.83 24.5 ]\n [21.98 21.89 21.93 21.82 21.89 21.98 21.89 22.06 22.21 22.06 22.08 21.89\n  22.   21.91 21.93 21.85 21.82 21.67 21.8  21.61 21.82 21.76 21.61 21.65\n  21.63 21.52 21.76 21.61 21.65 21.7  21.61 21.98 21.85 21.8  21.82 21.82\n  21.98 21.93 21.91 21.89 21.87 21.72 21.91 21.85 21.82 21.87 21.91 21.76\n  21.87 21.52 21.52 21.39 21.42 21.61 21.7  22.02 22.49 21.76 21.42 21.16\n  20.96 20.73 20.07 20.05 19.86 19.08 19.41 21.05 23.64 29.68 36.99 35.65\n  32.3  31.91 35.27 37.82 31.93 26.26 24.69 23.22]\n [21.98 21.87 21.93 21.87 21.89 21.89 21.91 22.02 22.15 21.95 21.98 22.\n  22.02 21.87 21.98 21.95 21.98 21.76 21.98 21.7  21.78 21.74 21.57 21.54\n  21.57 21.59 21.78 21.57 21.72 21.67 21.89 21.98 21.78 21.93 21.89 21.82\n  21.89 21.82 21.93 22.   21.85 21.78 21.87 21.91 21.87 21.85 21.78 21.91\n  21.65 21.48 21.59 21.46 21.42 21.57 21.89 22.56 22.13 21.67 21.39 21.24\n  21.03 20.44 20.03 20.38 20.23 19.55 20.31 23.07 27.49 35.08 36.89 32.47\n  31.17 33.71 37.41 34.61 27.75 25.   23.43 22.36]\n [21.82 21.98 22.11 21.89 21.89 22.   21.82 21.87 22.08 22.19 22.   22.\n  22.19 22.02 22.04 22.08 21.98 21.91 21.63 21.78 21.7  21.72 21.85 21.63\n  21.59 21.61 22.08 21.78 21.89 21.95 21.89 22.08 22.04 21.87 21.93 22.08\n  22.02 21.95 21.98 21.89 21.98 22.02 22.   21.82 21.82 22.   21.87 21.67\n  21.74 21.54 21.59 21.52 21.46 21.7  22.19 22.26 21.65 21.52 21.33 21.31\n  21.09 20.05 20.29 20.51 20.6  20.23 22.   25.69 32.53 37.27 33.31 30.67\n  32.05 36.31 36.41 29.42 25.73 23.89 22.11 21.44]\n [22.02 22.06 22.06 22.06 22.08 22.04 21.87 22.02 22.06 21.89 21.98 22.02\n  22.08 22.11 22.06 22.06 22.06 21.89 21.85 21.63 21.82 21.85 21.8  21.59\n  21.74 21.98 22.   21.8  22.08 22.15 22.08 22.23 22.08 22.06 22.02 22.15\n  22.11 22.21 22.06 22.   22.04 22.   22.06 22.13 21.82 21.98 22.02 21.72\n  21.61 21.52 21.44 21.54 21.61 22.   22.08 21.89 21.7  21.61 21.44 21.31\n  20.34 20.47 20.53 20.88 20.9  21.5  23.89 29.74 36.74 34.56 30.97 30.71\n  34.5  37.08 31.19 26.45 24.63 22.64 21.65 20.96]\n [21.89 21.91 22.13 22.19 22.08 21.93 21.98 21.89 22.04 21.95 22.06 21.98\n  22.19 21.89 22.08 21.98 22.06 21.8  21.93 21.7  21.7  21.8  21.78 21.44\n  21.67 21.67 21.78 21.89 22.15 22.17 22.06 22.19 21.93 21.91 21.93 22.06\n  22.11 21.93 21.89 21.98 22.04 22.   21.98 22.06 22.08 21.87 21.82 21.26\n  21.67 21.63 21.54 21.65 22.   22.04 21.78 21.57 21.54 21.63 21.61 20.55\n  20.57 20.6  20.81 20.73 21.48 23.19 27.67 35.54 35.88 31.05 30.14 32.51\n  36.8  33.46 26.94 25.07 22.75 20.73 20.96 20.96]\n [21.93 21.95 22.08 22.06 22.08 21.93 21.91 22.02 22.08 21.93 22.02 22.04\n  22.02 21.98 21.98 22.04 21.95 21.8  21.91 21.89 21.61 21.65 21.7  21.67\n  21.76 21.76 21.8  21.89 22.02 22.13 22.   22.13 22.11 22.04 22.17 22.08\n  22.3  22.   22.06 22.11 22.17 22.17 22.08 21.98 21.85 21.7  21.61 21.48\n  21.54 21.54 21.42 21.78 22.21 21.89 21.72 21.59 21.63 22.11 21.18 20.79\n  21.01 21.24 21.29 21.44 22.75 25.71 33.34 37.14 31.99 29.34 30.73 35.44\n  35.48 29.54 25.95 23.41 20.9  19.92 20.1  20.55]\n [22.08 22.   22.26 22.06 22.   22.04 21.91 22.11 22.21 22.11 21.93 22.06\n  22.04 21.98 22.04 22.02 22.06 22.04 22.02 22.   21.82 21.59 21.7  21.67\n  21.78 21.85 22.   21.95 22.   22.13 22.28 22.13 22.   22.11 22.3  22.23\n  22.11 22.17 22.17 22.11 22.17 22.06 22.11 22.02 21.95 21.57 21.61 21.46\n  21.57 21.5  21.74 22.06 22.13 21.67 21.57 21.5  22.21 22.08 20.94 21.52\n  21.95 21.85 21.37 22.04 24.58 31.01 37.21 33.63 29.62 27.79 28.24 34.39\n  31.05 27.32 24.63 21.57 20.1  19.52 19.92 20.05]\n [22.13 22.08 22.21 22.08 22.15 22.13 22.06 22.13 22.34 22.23 22.04 22.17\n  22.06 21.91 21.98 22.08 22.04 22.08 22.   22.11 21.87 21.82 21.76 21.82\n  21.82 21.93 22.15 22.04 21.93 22.26 22.19 22.13 22.06 22.15 22.36 22.32\n  22.21 22.13 22.13 22.   22.17 22.   22.08 21.98 21.76 21.52 21.5  21.63\n  21.5  21.65 21.98 22.28 21.74 21.76 21.61 21.93 22.51 21.46 22.15 21.59\n  22.21 21.72 21.89 23.66 29.06 36.24 35.27 30.71 29.44 30.24 31.68 31.42\n  26.67 25.32 22.75 20.83 20.03 19.7  19.86 20.03]\n [21.93 21.98 22.26 22.13 22.02 22.21 21.98 22.19 22.15 22.13 22.13 22.19\n  22.11 22.17 22.06 21.89 21.93 21.93 22.08 22.06 21.91 21.93 21.82 21.93\n  21.95 21.98 22.17 21.93 22.15 22.13 22.11 22.   21.87 21.89 22.08 22.26\n  22.32 22.28 22.06 22.19 22.28 22.06 22.06 21.89 21.63 21.5  21.42 21.57\n  21.72 21.93 22.19 21.93 21.61 21.48 21.5  21.82 21.22 21.8  22.11 22.23\n  21.98 22.06 23.11 26.8  34.71 36.69 31.58 29.6  31.68 36.5  35.31 27.26\n  25.19 23.58 21.05 20.16 19.96 20.07 19.94 20.18]\n [21.89 22.15 22.06 22.11 21.98 22.06 22.15 22.19 22.13 22.19 22.   22.06\n  22.23 22.15 22.04 22.04 21.93 21.95 22.   21.85 21.87 21.7  21.89 21.76\n  21.85 21.93 22.13 22.04 21.89 21.91 22.02 21.89 21.8  21.72 21.85 21.93\n  22.3  22.26 22.32 22.11 22.08 22.17 21.82 21.63 21.5  21.57 21.63 21.63\n  21.78 22.32 22.06 21.72 21.46 21.59 21.42 21.16 21.33 22.45 21.93 21.78\n  22.41 22.71 25.42 32.36 37.84 33.   29.84 30.62 34.97 36.74 29.8  25.5\n  24.02 21.85 20.44 19.79 19.72 19.77 19.92 19.99]\n [22.   22.   22.11 22.15 21.98 22.06 22.06 21.98 22.34 22.15 22.   22.04\n  22.08 22.   21.91 21.89 21.98 21.87 21.8  21.78 21.8  21.76 21.76 21.8\n  21.93 21.85 22.06 22.08 21.95 21.67 21.74 21.93 21.65 21.59 21.76 21.85\n  21.89 22.13 22.23 22.11 22.19 22.02 21.65 21.54 21.54 21.57 21.57 21.74\n  22.17 22.19 21.72 21.5  21.42 21.35 21.01 20.73 21.48 22.39 21.87 22.21\n  22.79 24.23 29.82 37.25 34.99 30.36 29.84 33.65 37.32 32.03 26.16 24.54\n  22.66 20.96 20.1  19.72 19.81 19.48 19.72 19.66]\n [22.08 22.21 22.26 22.34 22.21 22.11 22.08 22.11 22.23 22.   22.08 21.95\n  22.   22.   21.82 21.89 21.87 21.78 21.76 21.78 21.89 21.87 22.   21.95\n  21.95 21.93 22.02 21.87 22.15 21.85 21.7  21.8  21.72 21.61 21.65 21.59\n  21.7  21.61 22.13 22.19 22.06 21.65 21.63 21.46 21.52 21.52 21.67 22.23\n  22.43 21.8  21.67 21.46 21.29 20.94 20.57 20.79 21.35 22.19 21.85 22.26\n  23.77 28.16 35.6  36.28 31.44 29.5  32.24 37.08 34.56 26.88 25.02 23.11\n  21.44 20.68 20.14 20.29 20.14 19.59 19.83 19.79]\n [22.17 22.19 22.32 22.34 22.08 22.08 21.98 22.08 22.15 22.04 21.8  21.85\n  21.89 21.82 21.91 21.87 21.82 21.98 21.8  21.76 21.91 21.76 22.   21.89\n  21.95 21.98 22.02 21.98 22.21 22.23 22.06 21.85 21.65 21.59 21.5  21.67\n  21.74 21.61 21.52 21.78 21.82 21.78 21.72 21.63 21.54 21.59 22.15 22.77\n  22.19 21.8  21.63 21.33 21.01 20.6  20.7  21.13 21.48 22.   21.93 22.9\n  26.08 33.69 37.47 32.43 29.78 31.07 35.9  36.35 28.66 25.27 23.73 21.63\n  20.81 20.75 20.57 20.55 20.18 19.66 19.7  19.68]\n [22.17 22.26 22.15 22.11 22.04 21.91 22.02 22.08 22.19 21.91 21.8  22.02\n  21.91 21.78 21.93 21.98 21.85 21.78 21.91 22.   21.85 21.72 21.85 21.82\n  22.   21.98 21.95 21.8  21.76 22.02 22.34 22.26 21.76 21.54 21.67 21.65\n  21.78 21.61 21.59 21.7  21.57 21.7  21.78 21.67 21.59 21.95 22.96 22.39\n  21.78 21.59 21.44 21.11 20.68 20.75 20.92 21.22 21.7  21.57 22.36 24.71\n  31.5  37.65 33.94 30.26 30.58 34.46 37.4  30.87 26.08 24.21 22.66 21.01\n  20.55 20.57 20.53 20.47 20.18 19.9  19.79 19.79]\n [22.   21.95 22.06 22.   21.91 21.95 21.7  21.87 22.   21.95 21.89 21.78\n  21.91 21.87 21.82 22.02 22.02 21.78 21.85 21.78 21.78 21.82 21.89 21.98\n  22.04 22.04 21.98 21.72 21.5  21.74 22.13 22.73 22.3  21.7  21.61 21.57\n  21.72 21.7  21.63 21.52 21.7  21.7  21.61 21.61 21.63 22.21 22.68 21.91\n  21.78 21.5  21.16 20.85 20.77 20.98 21.05 21.18 21.48 22.08 23.77 29.38\n  36.67 35.33 30.67 29.92 33.23 37.43 33.36 26.73 25.05 23.13 21.57 20.83\n  20.64 20.77 20.7  20.29 19.83 19.72 19.64 19.39]\n [22.04 21.89 21.89 21.82 21.85 21.91 21.93 21.74 21.93 21.95 21.87 21.95\n  22.04 21.76 21.76 22.04 22.   21.91 21.85 22.06 21.93 21.82 21.95 21.91\n  21.98 22.06 22.06 21.5  21.35 21.44 21.72 22.06 22.77 22.51 21.91 21.63\n  21.65 21.54 21.61 21.63 21.72 21.52 21.65 21.7  21.76 21.91 21.87 21.76\n  21.46 21.22 20.81 20.49 20.75 21.03 21.11 21.24 21.59 23.19 27.53 35.44\n  36.41 31.54 29.7  31.91 37.1  35.6  29.4  26.1  23.89 21.76 21.11 20.75\n  20.9  20.79 20.29 19.88 19.9  19.44 19.64 19.48]\n [21.89 21.95 22.04 22.   21.93 21.89 21.72 22.02 21.93 21.93 21.78 21.8\n  21.85 21.89 21.67 21.76 21.78 22.02 21.89 21.93 21.98 21.91 21.93 21.85\n  21.93 21.98 21.95 20.85 21.01 21.37 21.48 21.7  21.87 22.17 21.95 21.63\n  21.61 21.5  21.48 21.46 21.74 21.5  21.67 21.89 21.72 21.7  21.82 21.59\n  21.33 20.81 20.36 20.75 20.9  21.44 21.5  21.65 22.77 25.87 33.67 37.58\n  32.51 29.94 30.93 35.98 37.3  29.72 26.49 24.65 22.51 21.54 21.48 20.81\n  20.92 20.83 20.29 20.05 19.79 19.28 19.5  19.52]\n [21.91 21.89 21.93 21.95 21.93 21.8  21.87 21.8  21.85 21.91 21.82 21.87\n  21.93 21.89 21.93 21.98 21.91 22.04 21.91 21.91 21.91 21.82 21.85 21.89\n  21.87 22.15 21.91 20.62 20.49 20.7  21.31 21.52 21.7  21.57 21.59 21.67\n  21.67 21.57 21.5  21.57 21.72 21.78 21.89 21.8  21.65 21.61 21.59 21.39\n  20.85 20.47 20.49 20.96 20.96 21.5  21.57 22.45 24.84 31.66 37.6  34.04\n  30.28 30.26 34.19 38.11 31.93 26.18 24.73 22.94 21.65 21.22 21.35 20.79\n  20.96 21.26 20.42 19.92 19.96 19.59 19.55 19.57]\n [22.   22.04 21.98 22.15 21.85 21.98 21.85 22.08 22.06 21.87 22.04 21.82\n  21.93 21.82 21.89 22.02 22.06 22.19 22.13 21.98 21.95 22.08 21.85 21.98\n  21.95 22.04 21.76 20.57 20.16 20.25 20.77 21.46 21.61 21.61 21.59 21.57\n  21.7  21.65 21.61 21.72 21.65 21.82 21.87 21.63 21.7  21.57 21.57 21.05\n  20.55 20.4  20.79 20.96 21.13 21.33 22.26 24.1  29.94 37.45 35.79 31.09\n  30.06 33.13 38.04 34.25 27.08 24.84 23.24 21.89 21.26 21.48 21.35 21.18\n  21.5  22.36 21.72 20.42 19.7  19.35 19.52 19.7 ]\n [22.11 22.13 22.02 21.95 22.04 21.93 21.98 21.78 22.13 22.04 21.98 21.91\n  21.89 21.74 21.98 22.   21.95 21.98 21.89 21.93 22.11 21.95 22.   22.13\n  22.06 22.08 21.52 20.21 20.1  20.31 20.7  21.26 21.52 21.37 21.44 21.52\n  21.59 21.59 21.35 21.59 21.42 21.52 21.63 21.63 21.37 21.29 21.13 20.66\n  20.64 20.73 20.9  20.94 21.07 21.87 23.64 28.32 36.65 37.49 32.34 30.16\n  32.24 37.28 36.2  28.34 25.6  23.79 22.04 21.46 21.44 21.2  21.59 21.44\n  21.61 21.93 21.8  21.72 20.51 19.5  19.72 19.92]\n [22.06 22.13 22.17 22.02 22.04 22.06 22.   22.02 22.08 22.15 22.   21.93\n  21.87 21.95 21.98 21.98 22.08 22.15 22.13 22.02 21.82 21.87 22.06 22.\n  21.91 21.98 21.35 20.07 20.03 20.18 20.42 20.94 20.77 20.75 21.31 21.42\n  21.5  21.44 21.44 21.5  21.35 21.54 21.42 21.44 21.33 21.2  20.75 20.47\n  20.75 20.77 20.77 20.94 21.35 23.09 27.1  38.21 40.89 33.96 30.75 31.64\n  36.31 37.95 30.1  25.79 24.54 22.71 22.02 21.93 21.65 21.24 21.8  21.48\n  21.65 21.61 21.39 21.63 21.35 20.47 19.96 20.14]\n [22.17 21.95 22.06 22.13 22.   21.87 21.98 22.02 22.02 22.11 22.08 21.98\n  22.   21.82 21.95 22.02 22.11 22.02 21.91 21.98 22.06 21.95 21.93 21.98\n  21.91 21.89 20.77 20.1  20.21 20.14 20.23 20.27 20.25 20.49 21.07 21.22\n  21.57 21.42 21.37 21.33 21.46 21.44 21.5  21.44 21.29 20.9  20.64 20.64\n  20.85 20.73 20.73 21.07 22.56 25.11 31.56 44.51 37.8  31.77 31.6  36.05\n  39.02 32.61 26.2  24.67 23.28 22.26 22.15 21.91 21.5  21.52 21.78 21.61\n  21.67 21.65 21.31 21.48 21.52 21.5  20.9  20.53]\n [22.04 22.11 22.15 22.08 21.85 22.13 22.02 21.95 22.17 22.17 21.98 21.98\n  22.08 22.   22.   22.06 22.08 21.95 22.04 21.95 21.95 21.91 22.02 22.04\n  22.06 22.02 21.59 20.42 20.05 20.36 20.12 20.34 20.34 20.68 20.81 21.09\n  21.26 21.29 21.2  21.29 21.26 21.46 21.54 21.42 20.94 20.62 20.88 20.9\n  21.07 20.81 20.75 20.68 22.26 25.05 29.8  33.83 31.95 31.81 37.01 41.54\n  35.58 27.34 25.05 23.32 21.98 21.5  21.85 21.61 21.63 21.7  21.76 21.65\n  21.76 21.5  21.39 21.54 21.52 21.48 21.11 20.96]\n [21.98 22.13 22.02 22.06 21.95 21.98 22.06 21.98 22.11 22.15 22.11 21.85\n  21.93 22.06 22.19 22.26 22.26 22.08 22.08 21.95 21.87 21.85 22.06 22.02\n  22.   21.91 21.87 21.54 20.79 20.25 20.36 20.25 20.31 20.57 21.05 22.32\n  21.33 20.57 21.26 21.29 21.37 21.37 21.46 21.2  20.66 20.47 20.85 20.83\n  20.96 20.85 20.66 20.9  21.09 22.39 25.29 28.38 29.26 33.42 45.28 42.84\n  29.96 26.12 24.   22.11 21.31 20.96 21.22 21.61 21.76 21.7  21.91 21.61\n  21.78 21.48 21.42 21.54 21.46 21.44 21.31 21.11]\n [22.11 22.11 22.08 22.   22.13 22.08 21.95 21.93 22.19 22.17 22.11 21.95\n  22.02 22.11 22.17 22.26 22.21 22.13 22.08 22.04 22.11 22.08 22.21 22.13\n  22.08 21.54 21.07 21.7  21.61 21.05 20.38 20.29 20.4  20.77 21.95 22.3\n  21.46 21.74 20.75 20.88 21.42 21.44 21.26 20.64 20.51 20.64 20.75 20.83\n  20.68 20.66 20.6  20.92 20.9  21.46 22.58 24.31 27.06 31.52 37.27 33.23\n  27.42 24.9  22.43 21.29 21.31 20.85 21.09 21.7  22.04 21.82 21.76 21.61\n  21.74 21.54 21.5  21.5  21.5  21.31 21.46 21.39]\n [22.15 22.04 22.17 22.15 22.19 22.02 22.02 22.11 22.17 22.06 21.95 22.19\n  22.28 22.32 22.36 22.3  22.19 22.11 22.13 21.91 21.95 21.89 22.04 22.17\n  22.04 21.18 20.92 20.98 21.63 21.54 21.26 20.55 20.68 21.33 22.17 21.11\n  21.22 22.13 22.17 20.62 20.85 20.94 20.83 20.51 20.57 20.77 20.75 20.64\n  20.66 20.47 20.77 20.88 21.22 21.82 21.72 21.82 23.05 26.06 28.18 27.51\n  25.79 23.17 21.46 21.09 21.24 20.96 21.13 21.37 21.89 21.72 21.72 21.52\n  21.59 21.59 21.44 21.5  21.52 21.48 21.22 21.03]\n [22.17 22.19 22.11 22.   21.98 21.98 21.95 22.11 22.11 22.13 22.19 22.51\n  22.51 22.41 22.41 22.43 22.23 22.34 22.08 22.15 22.04 22.04 21.95 22.17\n  21.2  21.01 20.88 20.88 20.88 21.44 21.72 21.07 20.79 21.59 21.13 20.6\n  20.44 21.18 22.34 21.95 20.49 20.64 20.79 20.51 20.73 20.79 20.68 20.47\n  20.29 20.6  20.79 21.16 21.54 21.8  21.31 21.22 21.22 22.02 23.96 24.71\n  23.28 21.63 20.96 21.24 21.29 20.9  20.96 21.61 22.34 22.   21.74 21.54\n  21.5  21.46 21.39 21.29 21.46 21.42 21.29 21.11]\n [22.06 21.98 22.17 22.06 22.02 22.02 21.95 22.15 22.3  22.17 22.21 22.47\n  22.58 22.41 22.26 22.17 22.17 22.26 22.13 22.02 22.02 22.   21.93 21.52\n  20.81 20.85 20.77 20.9  21.05 21.22 21.39 22.47 21.8  21.11 20.57 20.23\n  20.31 20.16 21.13 22.36 21.98 20.64 20.85 20.9  20.92 20.79 20.57 20.29\n  20.6  20.75 20.9  21.42 21.63 21.42 21.07 20.81 20.7  21.01 21.54 22.28\n  21.5  20.92 20.94 21.09 21.35 20.9  21.2  22.23 22.32 21.91 21.63 21.26\n  21.26 21.44 21.39 21.31 21.33 21.11 21.03 20.88]\n [22.06 22.21 22.23 22.11 22.13 21.98 22.11 22.04 22.11 22.34 22.3  22.51\n  22.54 22.26 22.23 22.   21.91 21.8  21.7  21.65 21.63 21.59 21.5  20.96\n  20.6  20.83 20.94 21.01 20.94 20.94 21.16 21.37 23.02 21.95 20.94 20.77\n  20.03 20.03 20.21 21.09 21.63 21.22 20.64 20.85 20.88 20.85 20.38 20.6\n  20.85 20.92 21.2  21.67 21.5  21.03 20.75 20.7  20.85 20.81 20.94 20.83\n  20.92 20.7  20.77 20.85 21.2  21.05 22.13 22.9  22.06 21.54 21.35 20.49\n  20.83 21.01 21.03 21.09 21.09 20.81 20.88 20.81]\n [22.15 22.17 22.08 22.21 22.28 22.15 21.98 22.21 22.41 22.34 22.13 22.32\n  22.17 21.7  21.29 21.37 21.35 21.29 21.01 21.01 21.16 20.83 20.92 20.79\n  20.73 20.81 20.85 21.26 20.88 20.75 21.11 21.29 21.39 22.23 21.93 21.29\n  21.01 20.14 19.94 20.36 20.79 20.75 20.1  20.05 20.64 20.57 20.44 20.7\n  20.88 21.01 21.48 21.61 21.2  20.81 20.66 20.66 20.77 20.64 20.83 20.62\n  20.66 20.75 20.79 21.07 21.22 21.35 22.81 22.79 21.72 21.18 20.88 20.21\n  19.96 20.55 20.68 20.57 20.64 20.31 20.66 20.77]]\n"
    },
    {
     "data": {
      "image/png": "[encoded data removed]",
      "image/svg+xml": "<?xml version=\"1.0\" encoding=\"utf-8\" standalone=\"no\"?>\r\n<!DOCTYPE svg PUBLIC \"-//W3C//DTD SVG 1.1//EN\"\r\n  \"http://www.w3.org/Graphics/SVG/1.1/DTD/svg11.dtd\">\r\n<!-- Created with matplotlib (https://matplotlib.org/) -->\r\n<svg height=\"250.505344pt\" version=\"1.1\" viewBox=\"0 0 324.045 250.505344\" width=\"324.045pt\" xmlns=\"http://www.w3.org/2000/svg\" xmlns:xlink=\"http://www.w3.org/1999/xlink\">\r\n <defs>\r\n  <style type=\"text/css\">\r\n*{stroke-linecap:butt;stroke-linejoin:round;}\r\n  </style>\r\n </defs>\r\n <g id=\"figure_1\">\r\n  <g id=\"patch_1\">\r\n   <path d=\"M 0 250.505344 \r\nL 324.045 250.505344 \r\nL 324.045 0 \r\nL 0 0 \r\nz\r\n\" style=\"fill:none;\"/>\r\n  </g>\r\n  <g id=\"axes_1\">\r\n   <g id=\"patch_2\">\r\n    <path d=\"M 26.925 226.627219 \r\nL 316.845 226.627219 \r\nL 316.845 9.187219 \r\nL 26.925 9.187219 \r\nz\r\n\" style=\"fill:#ffffff;\"/>\r\n   </g>\r\n   <g clip-path=\"url(#p8b37f57b77)\">\r\n    <image height=\"218\" id=\"imageaf93f34ba6\" transform=\"scale(1 -1)translate(0 -218)\" width=\"290\" x=\"26.925\" xlink:href=\"data:image/png;base64,\r\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\" y=\"-8.627219\"/>\r\n   </g>\r\n   <g id=\"matplotlib.axis_1\">\r\n    <g id=\"xtick_1\">\r\n     <g id=\"line2d_1\">\r\n      <defs>\r\n       <path d=\"M 0 0 \r\nL 0 3.5 \r\n\" id=\"m099444dc57\" style=\"stroke:#000000;stroke-width:0.8;\"/>\r\n      </defs>\r\n      <g>\r\n       <use style=\"stroke:#000000;stroke-width:0.8;\" x=\"28.737\" xlink:href=\"#m099444dc57\" y=\"226.627219\"/>\r\n      </g>\r\n     </g>\r\n     <g id=\"text_1\">\r\n      <!-- 0 -->\r\n      <defs>\r\n       <path d=\"M 31.78125 66.40625 \r\nQ 24.171875 66.40625 20.328125 58.90625 \r\nQ 16.5 51.421875 16.5 36.375 \r\nQ 16.5 21.390625 20.328125 13.890625 \r\nQ 24.171875 6.390625 31.78125 6.390625 \r\nQ 39.453125 6.390625 43.28125 13.890625 \r\nQ 47.125 21.390625 47.125 36.375 \r\nQ 47.125 51.421875 43.28125 58.90625 \r\nQ 39.453125 66.40625 31.78125 66.40625 \r\nz\r\nM 31.78125 74.21875 \r\nQ 44.046875 74.21875 50.515625 64.515625 \r\nQ 56.984375 54.828125 56.984375 36.375 \r\nQ 56.984375 17.96875 50.515625 8.265625 \r\nQ 44.046875 -1.421875 31.78125 -1.421875 \r\nQ 19.53125 -1.421875 13.0625 8.265625 \r\nQ 6.59375 17.96875 6.59375 36.375 \r\nQ 6.59375 54.828125 13.0625 64.515625 \r\nQ 19.53125 74.21875 31.78125 74.21875 \r\nz\r\n\" id=\"DejaVuSans-48\"/>\r\n      </defs>\r\n      <g transform=\"translate(25.55575 241.225656)scale(0.1 -0.1)\">\r\n       <use xlink:href=\"#DejaVuSans-48\"/>\r\n      </g>\r\n     </g>\r\n    </g>\r\n    <g id=\"xtick_2\">\r\n     <g id=\"line2d_2\">\r\n      <g>\r\n       <use style=\"stroke:#000000;stroke-width:0.8;\" x=\"64.977\" xlink:href=\"#m099444dc57\" y=\"226.627219\"/>\r\n      </g>\r\n     </g>\r\n     <g id=\"text_2\">\r\n      <!-- 10 -->\r\n      <defs>\r\n       <path d=\"M 12.40625 8.296875 \r\nL 28.515625 8.296875 \r\nL 28.515625 63.921875 \r\nL 10.984375 60.40625 \r\nL 10.984375 69.390625 \r\nL 28.421875 72.90625 \r\nL 38.28125 72.90625 \r\nL 38.28125 8.296875 \r\nL 54.390625 8.296875 \r\nL 54.390625 0 \r\nL 12.40625 0 \r\nz\r\n\" id=\"DejaVuSans-49\"/>\r\n      </defs>\r\n      <g transform=\"translate(58.6145 241.225656)scale(0.1 -0.1)\">\r\n       <use xlink:href=\"#DejaVuSans-49\"/>\r\n       <use x=\"63.623047\" xlink:href=\"#DejaVuSans-48\"/>\r\n      </g>\r\n     </g>\r\n    </g>\r\n    <g id=\"xtick_3\">\r\n     <g id=\"line2d_3\">\r\n      <g>\r\n       <use style=\"stroke:#000000;stroke-width:0.8;\" x=\"101.217\" xlink:href=\"#m099444dc57\" y=\"226.627219\"/>\r\n      </g>\r\n     </g>\r\n     <g id=\"text_3\">\r\n      <!-- 20 -->\r\n      <defs>\r\n       <path d=\"M 19.1875 8.296875 \r\nL 53.609375 8.296875 \r\nL 53.609375 0 \r\nL 7.328125 0 \r\nL 7.328125 8.296875 \r\nQ 12.9375 14.109375 22.625 23.890625 \r\nQ 32.328125 33.6875 34.8125 36.53125 \r\nQ 39.546875 41.84375 41.421875 45.53125 \r\nQ 43.3125 49.21875 43.3125 52.78125 \r\nQ 43.3125 58.59375 39.234375 62.25 \r\nQ 35.15625 65.921875 28.609375 65.921875 \r\nQ 23.96875 65.921875 18.8125 64.3125 \r\nQ 13.671875 62.703125 7.8125 59.421875 \r\nL 7.8125 69.390625 \r\nQ 13.765625 71.78125 18.9375 73 \r\nQ 24.125 74.21875 28.421875 74.21875 \r\nQ 39.75 74.21875 46.484375 68.546875 \r\nQ 53.21875 62.890625 53.21875 53.421875 \r\nQ 53.21875 48.921875 51.53125 44.890625 \r\nQ 49.859375 40.875 45.40625 35.40625 \r\nQ 44.1875 33.984375 37.640625 27.21875 \r\nQ 31.109375 20.453125 19.1875 8.296875 \r\nz\r\n\" id=\"DejaVuSans-50\"/>\r\n      </defs>\r\n      <g transform=\"translate(94.8545 241.225656)scale(0.1 -0.1)\">\r\n       <use xlink:href=\"#DejaVuSans-50\"/>\r\n       <use x=\"63.623047\" xlink:href=\"#DejaVuSans-48\"/>\r\n      </g>\r\n     </g>\r\n    </g>\r\n    <g id=\"xtick_4\">\r\n     <g id=\"line2d_4\">\r\n      <g>\r\n       <use style=\"stroke:#000000;stroke-width:0.8;\" x=\"137.457\" xlink:href=\"#m099444dc57\" y=\"226.627219\"/>\r\n      </g>\r\n     </g>\r\n     <g id=\"text_4\">\r\n      <!-- 30 -->\r\n      <defs>\r\n       <path d=\"M 40.578125 39.3125 \r\nQ 47.65625 37.796875 51.625 33 \r\nQ 55.609375 28.21875 55.609375 21.1875 \r\nQ 55.609375 10.40625 48.1875 4.484375 \r\nQ 40.765625 -1.421875 27.09375 -1.421875 \r\nQ 22.515625 -1.421875 17.65625 -0.515625 \r\nQ 12.796875 0.390625 7.625 2.203125 \r\nL 7.625 11.71875 \r\nQ 11.71875 9.328125 16.59375 8.109375 \r\nQ 21.484375 6.890625 26.8125 6.890625 \r\nQ 36.078125 6.890625 40.9375 10.546875 \r\nQ 45.796875 14.203125 45.796875 21.1875 \r\nQ 45.796875 27.640625 41.28125 31.265625 \r\nQ 36.765625 34.90625 28.71875 34.90625 \r\nL 20.21875 34.90625 \r\nL 20.21875 43.015625 \r\nL 29.109375 43.015625 \r\nQ 36.375 43.015625 40.234375 45.921875 \r\nQ 44.09375 48.828125 44.09375 54.296875 \r\nQ 44.09375 59.90625 40.109375 62.90625 \r\nQ 36.140625 65.921875 28.71875 65.921875 \r\nQ 24.65625 65.921875 20.015625 65.03125 \r\nQ 15.375 64.15625 9.8125 62.3125 \r\nL 9.8125 71.09375 \r\nQ 15.4375 72.65625 20.34375 73.4375 \r\nQ 25.25 74.21875 29.59375 74.21875 \r\nQ 40.828125 74.21875 47.359375 69.109375 \r\nQ 53.90625 64.015625 53.90625 55.328125 \r\nQ 53.90625 49.265625 50.4375 45.09375 \r\nQ 46.96875 40.921875 40.578125 39.3125 \r\nz\r\n\" id=\"DejaVuSans-51\"/>\r\n      </defs>\r\n      <g transform=\"translate(131.0945 241.225656)scale(0.1 -0.1)\">\r\n       <use xlink:href=\"#DejaVuSans-51\"/>\r\n       <use x=\"63.623047\" xlink:href=\"#DejaVuSans-48\"/>\r\n      </g>\r\n     </g>\r\n    </g>\r\n    <g id=\"xtick_5\">\r\n     <g id=\"line2d_5\">\r\n      <g>\r\n       <use style=\"stroke:#000000;stroke-width:0.8;\" x=\"173.697\" xlink:href=\"#m099444dc57\" y=\"226.627219\"/>\r\n      </g>\r\n     </g>\r\n     <g id=\"text_5\">\r\n      <!-- 40 -->\r\n      <defs>\r\n       <path d=\"M 37.796875 64.3125 \r\nL 12.890625 25.390625 \r\nL 37.796875 25.390625 \r\nz\r\nM 35.203125 72.90625 \r\nL 47.609375 72.90625 \r\nL 47.609375 25.390625 \r\nL 58.015625 25.390625 \r\nL 58.015625 17.1875 \r\nL 47.609375 17.1875 \r\nL 47.609375 0 \r\nL 37.796875 0 \r\nL 37.796875 17.1875 \r\nL 4.890625 17.1875 \r\nL 4.890625 26.703125 \r\nz\r\n\" id=\"DejaVuSans-52\"/>\r\n      </defs>\r\n      <g transform=\"translate(167.3345 241.225656)scale(0.1 -0.1)\">\r\n       <use xlink:href=\"#DejaVuSans-52\"/>\r\n       <use x=\"63.623047\" xlink:href=\"#DejaVuSans-48\"/>\r\n      </g>\r\n     </g>\r\n    </g>\r\n    <g id=\"xtick_6\">\r\n     <g id=\"line2d_6\">\r\n      <g>\r\n       <use style=\"stroke:#000000;stroke-width:0.8;\" x=\"209.937\" xlink:href=\"#m099444dc57\" y=\"226.627219\"/>\r\n      </g>\r\n     </g>\r\n     <g id=\"text_6\">\r\n      <!-- 50 -->\r\n      <defs>\r\n       <path d=\"M 10.796875 72.90625 \r\nL 49.515625 72.90625 \r\nL 49.515625 64.59375 \r\nL 19.828125 64.59375 \r\nL 19.828125 46.734375 \r\nQ 21.96875 47.46875 24.109375 47.828125 \r\nQ 26.265625 48.1875 28.421875 48.1875 \r\nQ 40.625 48.1875 47.75 41.5 \r\nQ 54.890625 34.8125 54.890625 23.390625 \r\nQ 54.890625 11.625 47.5625 5.09375 \r\nQ 40.234375 -1.421875 26.90625 -1.421875 \r\nQ 22.3125 -1.421875 17.546875 -0.640625 \r\nQ 12.796875 0.140625 7.71875 1.703125 \r\nL 7.71875 11.625 \r\nQ 12.109375 9.234375 16.796875 8.0625 \r\nQ 21.484375 6.890625 26.703125 6.890625 \r\nQ 35.15625 6.890625 40.078125 11.328125 \r\nQ 45.015625 15.765625 45.015625 23.390625 \r\nQ 45.015625 31 40.078125 35.4375 \r\nQ 35.15625 39.890625 26.703125 39.890625 \r\nQ 22.75 39.890625 18.8125 39.015625 \r\nQ 14.890625 38.140625 10.796875 36.28125 \r\nz\r\n\" id=\"DejaVuSans-53\"/>\r\n      </defs>\r\n      <g transform=\"translate(203.5745 241.225656)scale(0.1 -0.1)\">\r\n       <use xlink:href=\"#DejaVuSans-53\"/>\r\n       <use x=\"63.623047\" xlink:href=\"#DejaVuSans-48\"/>\r\n      </g>\r\n     </g>\r\n    </g>\r\n    <g id=\"xtick_7\">\r\n     <g id=\"line2d_7\">\r\n      <g>\r\n       <use style=\"stroke:#000000;stroke-width:0.8;\" x=\"246.177\" xlink:href=\"#m099444dc57\" y=\"226.627219\"/>\r\n      </g>\r\n     </g>\r\n     <g id=\"text_7\">\r\n      <!-- 60 -->\r\n      <defs>\r\n       <path d=\"M 33.015625 40.375 \r\nQ 26.375 40.375 22.484375 35.828125 \r\nQ 18.609375 31.296875 18.609375 23.390625 \r\nQ 18.609375 15.53125 22.484375 10.953125 \r\nQ 26.375 6.390625 33.015625 6.390625 \r\nQ 39.65625 6.390625 43.53125 10.953125 \r\nQ 47.40625 15.53125 47.40625 23.390625 \r\nQ 47.40625 31.296875 43.53125 35.828125 \r\nQ 39.65625 40.375 33.015625 40.375 \r\nz\r\nM 52.59375 71.296875 \r\nL 52.59375 62.3125 \r\nQ 48.875 64.0625 45.09375 64.984375 \r\nQ 41.3125 65.921875 37.59375 65.921875 \r\nQ 27.828125 65.921875 22.671875 59.328125 \r\nQ 17.53125 52.734375 16.796875 39.40625 \r\nQ 19.671875 43.65625 24.015625 45.921875 \r\nQ 28.375 48.1875 33.59375 48.1875 \r\nQ 44.578125 48.1875 50.953125 41.515625 \r\nQ 57.328125 34.859375 57.328125 23.390625 \r\nQ 57.328125 12.15625 50.6875 5.359375 \r\nQ 44.046875 -1.421875 33.015625 -1.421875 \r\nQ 20.359375 -1.421875 13.671875 8.265625 \r\nQ 6.984375 17.96875 6.984375 36.375 \r\nQ 6.984375 53.65625 15.1875 63.9375 \r\nQ 23.390625 74.21875 37.203125 74.21875 \r\nQ 40.921875 74.21875 44.703125 73.484375 \r\nQ 48.484375 72.75 52.59375 71.296875 \r\nz\r\n\" id=\"DejaVuSans-54\"/>\r\n      </defs>\r\n      <g transform=\"translate(239.8145 241.225656)scale(0.1 -0.1)\">\r\n       <use xlink:href=\"#DejaVuSans-54\"/>\r\n       <use x=\"63.623047\" xlink:href=\"#DejaVuSans-48\"/>\r\n      </g>\r\n     </g>\r\n    </g>\r\n    <g id=\"xtick_8\">\r\n     <g id=\"line2d_8\">\r\n      <g>\r\n       <use style=\"stroke:#000000;stroke-width:0.8;\" x=\"282.417\" xlink:href=\"#m099444dc57\" y=\"226.627219\"/>\r\n      </g>\r\n     </g>\r\n     <g id=\"text_8\">\r\n      <!-- 70 -->\r\n      <defs>\r\n       <path d=\"M 8.203125 72.90625 \r\nL 55.078125 72.90625 \r\nL 55.078125 68.703125 \r\nL 28.609375 0 \r\nL 18.3125 0 \r\nL 43.21875 64.59375 \r\nL 8.203125 64.59375 \r\nz\r\n\" id=\"DejaVuSans-55\"/>\r\n      </defs>\r\n      <g transform=\"translate(276.0545 241.225656)scale(0.1 -0.1)\">\r\n       <use xlink:href=\"#DejaVuSans-55\"/>\r\n       <use x=\"63.623047\" xlink:href=\"#DejaVuSans-48\"/>\r\n      </g>\r\n     </g>\r\n    </g>\r\n   </g>\r\n   <g id=\"matplotlib.axis_2\">\r\n    <g id=\"ytick_1\">\r\n     <g id=\"line2d_9\">\r\n      <defs>\r\n       <path d=\"M 0 0 \r\nL -3.5 0 \r\n\" id=\"m6587ed6fd3\" style=\"stroke:#000000;stroke-width:0.8;\"/>\r\n      </defs>\r\n      <g>\r\n       <use style=\"stroke:#000000;stroke-width:0.8;\" x=\"26.925\" xlink:href=\"#m6587ed6fd3\" y=\"10.999219\"/>\r\n      </g>\r\n     </g>\r\n     <g id=\"text_9\">\r\n      <!-- 0 -->\r\n      <g transform=\"translate(13.5625 14.798437)scale(0.1 -0.1)\">\r\n       <use xlink:href=\"#DejaVuSans-48\"/>\r\n      </g>\r\n     </g>\r\n    </g>\r\n    <g id=\"ytick_2\">\r\n     <g id=\"line2d_10\">\r\n      <g>\r\n       <use style=\"stroke:#000000;stroke-width:0.8;\" x=\"26.925\" xlink:href=\"#m6587ed6fd3\" y=\"47.239219\"/>\r\n      </g>\r\n     </g>\r\n     <g id=\"text_10\">\r\n      <!-- 10 -->\r\n      <g transform=\"translate(7.2 51.038437)scale(0.1 -0.1)\">\r\n       <use xlink:href=\"#DejaVuSans-49\"/>\r\n       <use x=\"63.623047\" xlink:href=\"#DejaVuSans-48\"/>\r\n      </g>\r\n     </g>\r\n    </g>\r\n    <g id=\"ytick_3\">\r\n     <g id=\"line2d_11\">\r\n      <g>\r\n       <use style=\"stroke:#000000;stroke-width:0.8;\" x=\"26.925\" xlink:href=\"#m6587ed6fd3\" y=\"83.479219\"/>\r\n      </g>\r\n     </g>\r\n     <g id=\"text_11\">\r\n      <!-- 20 -->\r\n      <g transform=\"translate(7.2 87.278437)scale(0.1 -0.1)\">\r\n       <use xlink:href=\"#DejaVuSans-50\"/>\r\n       <use x=\"63.623047\" xlink:href=\"#DejaVuSans-48\"/>\r\n      </g>\r\n     </g>\r\n    </g>\r\n    <g id=\"ytick_4\">\r\n     <g id=\"line2d_12\">\r\n      <g>\r\n       <use style=\"stroke:#000000;stroke-width:0.8;\" x=\"26.925\" xlink:href=\"#m6587ed6fd3\" y=\"119.719219\"/>\r\n      </g>\r\n     </g>\r\n     <g id=\"text_12\">\r\n      <!-- 30 -->\r\n      <g transform=\"translate(7.2 123.518437)scale(0.1 -0.1)\">\r\n       <use xlink:href=\"#DejaVuSans-51\"/>\r\n       <use x=\"63.623047\" xlink:href=\"#DejaVuSans-48\"/>\r\n      </g>\r\n     </g>\r\n    </g>\r\n    <g id=\"ytick_5\">\r\n     <g id=\"line2d_13\">\r\n      <g>\r\n       <use style=\"stroke:#000000;stroke-width:0.8;\" x=\"26.925\" xlink:href=\"#m6587ed6fd3\" y=\"155.959219\"/>\r\n      </g>\r\n     </g>\r\n     <g id=\"text_13\">\r\n      <!-- 40 -->\r\n      <g transform=\"translate(7.2 159.758437)scale(0.1 -0.1)\">\r\n       <use xlink:href=\"#DejaVuSans-52\"/>\r\n       <use x=\"63.623047\" xlink:href=\"#DejaVuSans-48\"/>\r\n      </g>\r\n     </g>\r\n    </g>\r\n    <g id=\"ytick_6\">\r\n     <g id=\"line2d_14\">\r\n      <g>\r\n       <use style=\"stroke:#000000;stroke-width:0.8;\" x=\"26.925\" xlink:href=\"#m6587ed6fd3\" y=\"192.199219\"/>\r\n      </g>\r\n     </g>\r\n     <g id=\"text_14\">\r\n      <!-- 50 -->\r\n      <g transform=\"translate(7.2 195.998437)scale(0.1 -0.1)\">\r\n       <use xlink:href=\"#DejaVuSans-53\"/>\r\n       <use x=\"63.623047\" xlink:href=\"#DejaVuSans-48\"/>\r\n      </g>\r\n     </g>\r\n    </g>\r\n   </g>\r\n   <g id=\"patch_3\">\r\n    <path d=\"M 26.925 226.627219 \r\nL 26.925 9.187219 \r\n\" style=\"fill:none;stroke:#000000;stroke-linecap:square;stroke-linejoin:miter;stroke-width:0.8;\"/>\r\n   </g>\r\n   <g id=\"patch_4\">\r\n    <path d=\"M 316.845 226.627219 \r\nL 316.845 9.187219 \r\n\" style=\"fill:none;stroke:#000000;stroke-linecap:square;stroke-linejoin:miter;stroke-width:0.8;\"/>\r\n   </g>\r\n   <g id=\"patch_5\">\r\n    <path d=\"M 26.925 226.627219 \r\nL 316.845 226.627219 \r\n\" style=\"fill:none;stroke:#000000;stroke-linecap:square;stroke-linejoin:miter;stroke-width:0.8;\"/>\r\n   </g>\r\n   <g id=\"patch_6\">\r\n    <path d=\"M 26.925 9.187219 \r\nL 316.845 9.187219 \r\n\" style=\"fill:none;stroke:#000000;stroke-linecap:square;stroke-linejoin:miter;stroke-width:0.8;\"/>\r\n   </g>\r\n  </g>\r\n </g>\r\n <defs>\r\n  <clipPath id=\"p8b37f57b77\">\r\n   <rect height=\"217.44\" width=\"289.92\" x=\"26.925\" y=\"9.187219\"/>\r\n  </clipPath>\r\n </defs>\r\n</svg>\r\n",
      "text/plain": "<Figure size 432x288 with 1 Axes>"
     },
     "metadata": {
      "needs_background": "light"
     },
     "output_type": "display_data"
    }
   ],
   "source": [
    "# test\n",
    "from matplotlib import cm\n",
    "numpy.set_printoptions(threshold=sys.maxsize)\n",
    "def short_array_to_numpy(height, width, frame):\n",
    "    return numpy.fromiter(frame, dtype=\"uint16\").reshape(height, width)\n",
    "def centikelvin_to_celsius(t):\n",
    "    return (t - 27315) / 100\n",
    "\n",
    "def to_fahrenheit(ck):\n",
    "    c = centikelvin_to_celsius(ck)\n",
    "    return c * 9 / 5 + 32\n",
    "\n",
    "\n",
    "height, width, net_array = incoming_frames[-1]\n",
    "arr = short_array_to_numpy(height, width, net_array)\n",
    "\n",
    "plt.imshow(arr, cmap=cm.plasma)\n",
    "arr_celsius = centikelvin_to_celsius(arr)\n",
    "print(arr_celsius)"
   ]
  },
  {
   "cell_type": "code",
   "execution_count": null,
   "metadata": {},
   "outputs": [],
   "source": []
  }
 ],
 "metadata": {
  "kernelspec": {
   "display_name": "Python 3",
   "language": "python",
   "name": "python3"
  },
  "language_info": {
   "codemirror_mode": {
    "name": "ipython",
    "version": 3
   },
   "file_extension": ".py",
   "mimetype": "text/x-python",
   "name": "python",
   "nbconvert_exporter": "python",
   "pygments_lexer": "ipython3",
   "version": "3.6.9-final"
  }
 },
 "nbformat": 4,
 "nbformat_minor": 4
}